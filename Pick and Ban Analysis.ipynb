{
 "cells": [
  {
   "cell_type": "code",
   "execution_count": 1,
   "metadata": {},
   "outputs": [],
   "source": [
    "# Import the necessaries libraries\n",
    "import pandas as pd\n",
    "import numpy as np\n",
    "import matplotlib.pyplot as plt\n",
    "import scipy as sp\n",
    "import seaborn as sb\n",
    "import plotly.express as px\n",
    "import plotly.graph_objects as go\n"
   ]
  },
  {
   "cell_type": "markdown",
   "metadata": {},
   "source": [
    "# Which LCS Players Make use of Their Counter Picks\n",
    "\n",
    "# THIS IS WHERE TO START!!"
   ]
  },
  {
   "cell_type": "code",
   "execution_count": 2,
   "metadata": {},
   "outputs": [],
   "source": [
    "match = pd.read_csv('2020match2.csv')\n",
    "lcspb = pd.read_csv('lcspb.csv')\n",
    "matchlcs = match[match['league'] == 'LCS']\n"
   ]
  },
  {
   "cell_type": "code",
   "execution_count": 3,
   "metadata": {
    "tags": []
   },
   "outputs": [],
   "source": [
    "# Narrow data down to just LCS\n",
    "match =  match[match['league'] == 'LCS']\n",
    "TeamCounterBias = pd.DataFrame(columns = ['Team', 'Top','Jng','Mid','Bot','Sup'])"
   ]
  },
  {
   "cell_type": "code",
   "execution_count": 4,
   "metadata": {},
   "outputs": [],
   "source": [
    "def BlueSidePriByTeam(data,side,team):\n",
    "    TeamCounterBias = pd.DataFrame(columns = ['Team','Side', 'Top','Jng','Mid','Bot','Sup'])\n",
    "    if side == \"Blue\":\n",
    "        bot = len(lcspb[(lcspb[side]==team) & (lcspb['BR5'] == \"Bot\")])*5 + \\\n",
    "                len(lcspb[(lcspb[side]==team) & (lcspb['BR4'] == \"Bot\")])*5 + \\\n",
    "                len(lcspb[(lcspb[side]==team) & (lcspb['BR3'] == \"Bot\")])*3 + \\\n",
    "                len(lcspb[(lcspb[side]==team) & (lcspb['BR2'] == \"Bot\")])*3 + \\\n",
    "                len(lcspb[(lcspb[side]==team) & (lcspb['BR1'] == \"Bot\")])\n",
    "        sup = len(lcspb[(lcspb[side]==team) & (lcspb['BR5'] == \"Support\")])*5 + \\\n",
    "                len(lcspb[(lcspb[side]==team) & (lcspb['BR4'] == \"Support\")])*5 + \\\n",
    "                len(lcspb[(lcspb[side]==team) & (lcspb['BR3'] == \"Support\")])*3 + \\\n",
    "                len(lcspb[(lcspb[side]==team) & (lcspb['BR2'] == \"Support\")])*3 + \\\n",
    "                len(lcspb[(lcspb[side]==team) & (lcspb['BR1'] == \"Support\")])\n",
    "        mid = len(lcspb[(lcspb[side]==team) & (lcspb['BR5'] == \"Mid\")])*5 + \\\n",
    "                len(lcspb[(lcspb[side]==team) & (lcspb['BR4'] == \"Mid\")])*5 + \\\n",
    "                len(lcspb[(lcspb[side]==team) & (lcspb['BR3'] == \"Mid\")])*3 + \\\n",
    "                len(lcspb[(lcspb[side]==team) & (lcspb['BR2'] == \"Mid\")])*3 + \\\n",
    "                len(lcspb[(lcspb[side]==team) & (lcspb['BR1'] == \"Mid\")])\n",
    "        jng = len(lcspb[(lcspb[side]==team) & (lcspb['BR5'] == \"Jungle\")])*5 + \\\n",
    "                len(lcspb[(lcspb[side]==team) & (lcspb['BR4'] == \"Jungle\")])*5 + \\\n",
    "                len(lcspb[(lcspb[side]==team) & (lcspb['BR3'] == \"Jungle\")])*3 + \\\n",
    "                len(lcspb[(lcspb[side]==team) & (lcspb['BR2'] == \"Jungle\")])*3 + \\\n",
    "                len(lcspb[(lcspb[side]==team) & (lcspb['BR1'] == \"Jungle\")])\n",
    "        top = len(lcspb[(lcspb[side]==team) & (lcspb['BR5'] == \"Top\")])*5 + \\\n",
    "                len(lcspb[(lcspb[side]==team) & (lcspb['BR4'] == \"Top\")])*5 + \\\n",
    "                len(lcspb[(lcspb[side]==team) & (lcspb['BR3'] == \"Top\")])*3 + \\\n",
    "                len(lcspb[(lcspb[side]==team) & (lcspb['BR2'] == \"Top\")])*3 + \\\n",
    "                len(lcspb[(lcspb[side]==team) & (lcspb['BR1'] == \"Top\")])\n",
    "    \n",
    "    if side == \"Red\":\n",
    "        bot = len(lcspb[(lcspb[side]==team) & (lcspb['BR5'] == \"Bot\")])*5 + \\\n",
    "                len(lcspb[(lcspb[side]==team) & (lcspb['BR4'] == \"Bot\")])*3 + \\\n",
    "                len(lcspb[(lcspb[side]==team) & (lcspb['BR3'] == \"Bot\")])*3 + \\\n",
    "                len(lcspb[(lcspb[side]==team) & (lcspb['BR2'] == \"Bot\")])*1 + \\\n",
    "                len(lcspb[(lcspb[side]==team) & (lcspb['BR1'] == \"Bot\")])\n",
    "        sup = len(lcspb[(lcspb[side]==team) & (lcspb['BR5'] == \"Support\")])*5 + \\\n",
    "                len(lcspb[(lcspb[side]==team) & (lcspb['BR4'] == \"Support\")])*3 + \\\n",
    "                len(lcspb[(lcspb[side]==team) & (lcspb['BR3'] == \"Support\")])*3 + \\\n",
    "                len(lcspb[(lcspb[side]==team) & (lcspb['BR2'] == \"Support\")])*1 + \\\n",
    "                len(lcspb[(lcspb[side]==team) & (lcspb['BR1'] == \"Support\")])\n",
    "        mid = len(lcspb[(lcspb[side]==team) & (lcspb['BR5'] == \"Mid\")])*5 + \\\n",
    "                len(lcspb[(lcspb[side]==team) & (lcspb['BR4'] == \"Mid\")])*3 + \\\n",
    "                len(lcspb[(lcspb[side]==team) & (lcspb['BR3'] == \"Mid\")])*3 + \\\n",
    "                len(lcspb[(lcspb[side]==team) & (lcspb['BR2'] == \"Mid\")])*1 + \\\n",
    "                len(lcspb[(lcspb[side]==team) & (lcspb['BR1'] == \"Mid\")])\n",
    "        jng = len(lcspb[(lcspb[side]==team) & (lcspb['BR5'] == \"Jungle\")])*5 + \\\n",
    "                len(lcspb[(lcspb[side]==team) & (lcspb['BR4'] == \"Jungle\")])*3 + \\\n",
    "                len(lcspb[(lcspb[side]==team) & (lcspb['BR3'] == \"Jungle\")])*3 + \\\n",
    "                len(lcspb[(lcspb[side]==team) & (lcspb['BR2'] == \"Jungle\")])*1 + \\\n",
    "                len(lcspb[(lcspb[side]==team) & (lcspb['BR1'] == \"Jungle\")])\n",
    "        top = len(lcspb[(lcspb[side]==team) & (lcspb['BR5'] == \"Top\")])*5 + \\\n",
    "                len(lcspb[(lcspb[side]==team) & (lcspb['BR4'] == \"Top\")])*3 + \\\n",
    "                len(lcspb[(lcspb[side]==team) & (lcspb['BR3'] == \"Top\")])*3 + \\\n",
    "                len(lcspb[(lcspb[side]==team) & (lcspb['BR2'] == \"Top\")])*1 + \\\n",
    "                len(lcspb[(lcspb[side]==team) & (lcspb['BR1'] == \"Top\")])\n",
    "\n",
    "    \n",
    "    TeamCounterBias =  TeamCounterBias.append({'Team':team,'Side':side,'Bot':bot,'Top':top,'Jng':jng,'Mid':mid,'Sup':sup},ignore_index=True)\n",
    "    return TeamCounterBias\n",
    "    "
   ]
  },
  {
   "cell_type": "code",
   "execution_count": 5,
   "metadata": {},
   "outputs": [
    {
     "name": "stderr",
     "output_type": "stream",
     "text": [
      "C:\\Users\\James\\AppData\\Roaming\\Python\\Python39\\site-packages\\pandas\\plotting\\_matplotlib\\tools.py:400: MatplotlibDeprecationWarning: \n",
      "The is_first_col function was deprecated in Matplotlib 3.4 and will be removed two minor releases later. Use ax.get_subplotspec().is_first_col() instead.\n",
      "  if ax.is_first_col():\n"
     ]
    },
    {
     "data": {
      "image/png": "[encoded data removed]",
      "text/plain": [
       "<Figure size 1440x720 with 10 Axes>"
      ]
     },
     "metadata": {},
     "output_type": "display_data"
    },
    {
     "data": {
      "image/png": "[encoded data removed]",
      "text/plain": [
       "<Figure size 1440x720 with 10 Axes>"
      ]
     },
     "metadata": {},
     "output_type": "display_data"
    }
   ],
   "source": [
    "fig, axes = plt.subplots(nrows=2, ncols=5,figsize = [20,10],facecolor='lightskyblue')\n",
    "\n",
    "BlueSidePriByTeam(lcspb,'Blue','Team Liquid').plot(kind = 'bar',ax=axes[0,0], title = \"Team Liquid\")\n",
    "axes[0,0].xaxis.set_visible(False)\n",
    "BlueSidePriByTeam(lcspb,'Blue','Cloud9').plot(kind = 'bar', ax=axes[0,1],title = \"Cloud 9\")\n",
    "axes[0,1].xaxis.set_visible(False)\n",
    "BlueSidePriByTeam(lcspb,'Blue','Team SoloMid').plot(kind = 'bar',ax=axes[0,2], title = \"Team SoloMid\")\n",
    "axes[0,2].xaxis.set_visible(False)\n",
    "BlueSidePriByTeam(lcspb,'Blue','Evil Geniuses.NA').plot(kind = 'bar', ax=axes[0,3],title = \"Evil Geniuses\")\n",
    "axes[0,3].xaxis.set_visible(False)\n",
    "BlueSidePriByTeam(lcspb,'Blue','FlyQuest').plot(kind = 'bar',ax=axes[0,4], title = \"FlyQuest\")\n",
    "axes[0,4].xaxis.set_visible(False)\n",
    "BlueSidePriByTeam(lcspb,'Blue','100 Thieves').plot(kind = 'bar', ax=axes[1,0],title = \"100 Thieves\")\n",
    "axes[1,0].xaxis.set_visible(False)\n",
    "BlueSidePriByTeam(lcspb,'Blue','Golden Guardians').plot(kind = 'bar',ax=axes[1,1], title = \"Golden Guardians\")\n",
    "axes[1,1].xaxis.set_visible(False)\n",
    "BlueSidePriByTeam(lcspb,'Blue','Immortals').plot(kind = 'bar', ax=axes[1,2],title = \"Immortals\")\n",
    "axes[1,2].xaxis.set_visible(False)\n",
    "BlueSidePriByTeam(lcspb,'Blue','Counter Logic Gaming').plot(kind = 'bar',ax=axes[1,3], title = \"Counter Logic Gaming\")\n",
    "axes[1,3].xaxis.set_visible(False)\n",
    "BlueSidePriByTeam(lcspb,'Blue','Dignitas').plot(kind = 'bar', ax=axes[1,4],title = \"Dignitas\")\n",
    "axes[1,4].xaxis.set_visible(False)\n",
    "\n",
    "fig, axes = plt.subplots(nrows=2, ncols=5,figsize = [20,10],facecolor='mistyrose')\n",
    "\n",
    "BlueSidePriByTeam(lcspb,'Red','Team Liquid').plot(kind = 'bar',ax=axes[0,0], title = \"Team Liquid\")\n",
    "axes[0,0].xaxis.set_visible(False)\n",
    "BlueSidePriByTeam(lcspb,'Red','Cloud9').plot(kind = 'bar', ax=axes[0,1],title = \"Cloud 9\")\n",
    "axes[0,1].xaxis.set_visible(False)\n",
    "BlueSidePriByTeam(lcspb,'Red','Team SoloMid').plot(kind = 'bar',ax=axes[0,2], title = \"Team SoloMid\")\n",
    "axes[0,2].xaxis.set_visible(False)\n",
    "BlueSidePriByTeam(lcspb,'Red','Evil Geniuses.NA').plot(kind = 'bar', ax=axes[0,3],title = \"Evil Geniuses\")\n",
    "axes[0,3].xaxis.set_visible(False)\n",
    "BlueSidePriByTeam(lcspb,'Red','FlyQuest').plot(kind = 'bar',ax=axes[0,4], title = \"FlyQuest\")\n",
    "axes[0,4].xaxis.set_visible(False)\n",
    "BlueSidePriByTeam(lcspb,'Red','100 Thieves').plot(kind = 'bar', ax=axes[1,0],title = \"100 Thieves\")\n",
    "axes[1,0].xaxis.set_visible(False)\n",
    "BlueSidePriByTeam(lcspb,'Red','Golden Guardians').plot(kind = 'bar',ax=axes[1,1], title = \"Golden Guardians\")\n",
    "axes[1,1].xaxis.set_visible(False)\n",
    "BlueSidePriByTeam(lcspb,'Red','Immortals').plot(kind = 'bar', ax=axes[1,2],title = \"Immortals\")\n",
    "axes[1,2].xaxis.set_visible(False)\n",
    "BlueSidePriByTeam(lcspb,'Red','Counter Logic Gaming').plot(kind = 'bar',ax=axes[1,3], title = \"Counter Logic Gaming\")\n",
    "axes[1,3].xaxis.set_visible(False)\n",
    "BlueSidePriByTeam(lcspb,'Red','Dignitas').plot(kind = 'bar', ax=axes[1,4],title = \"Dignitas\")\n",
    "axes[1,4].xaxis.set_visible(False)"
   ]
  },
  {
   "cell_type": "code",
   "execution_count": 6,
   "metadata": {},
   "outputs": [
    {
     "data": {
      "image/png": "[encoded data removed]",
      "text/plain": [
       "<Figure size 432x288 with 1 Axes>"
      ]
     },
     "metadata": {
      "needs_background": "light"
     },
     "output_type": "display_data"
    },
    {
     "data": {
      "image/png": "[encoded data removed]",
      "text/plain": [
       "<Figure size 432x288 with 1 Axes>"
      ]
     },
     "metadata": {
      "needs_background": "light"
     },
     "output_type": "display_data"
    },
    {
     "data": {
      "image/png": "[encoded data removed]",
      "text/plain": [
       "<Figure size 432x288 with 1 Axes>"
      ]
     },
     "metadata": {
      "needs_background": "light"
     },
     "output_type": "display_data"
    },
    {
     "data": {
      "image/png": "[encoded data removed]",
      "text/plain": [
       "<Figure size 432x288 with 1 Axes>"
      ]
     },
     "metadata": {
      "needs_background": "light"
     },
     "output_type": "display_data"
    },
    {
     "data": {
      "image/png": "[encoded data removed]",
      "text/plain": [
       "<Figure size 432x288 with 1 Axes>"
      ]
     },
     "metadata": {
      "needs_background": "light"
     },
     "output_type": "display_data"
    },
    {
     "data": {
      "image/png": "[encoded data removed]",
      "text/plain": [
       "<Figure size 432x288 with 1 Axes>"
      ]
     },
     "metadata": {
      "needs_background": "light"
     },
     "output_type": "display_data"
    },
    {
     "data": {
      "image/png": "[encoded data removed]",
      "text/plain": [
       "<Figure size 432x288 with 1 Axes>"
      ]
     },
     "metadata": {
      "needs_background": "light"
     },
     "output_type": "display_data"
    },
    {
     "data": {
      "image/png": "[encoded data removed]",
      "text/plain": [
       "<Figure size 432x288 with 1 Axes>"
      ]
     },
     "metadata": {
      "needs_background": "light"
     },
     "output_type": "display_data"
    },
    {
     "data": {
      "image/png": "[encoded data removed]",
      "text/plain": [
       "<Figure size 432x288 with 1 Axes>"
      ]
     },
     "metadata": {
      "needs_background": "light"
     },
     "output_type": "display_data"
    },
    {
     "data": {
      "image/png": "[encoded data removed]",
      "text/plain": [
       "<Figure size 432x288 with 1 Axes>"
      ]
     },
     "metadata": {
      "needs_background": "light"
     },
     "output_type": "display_data"
    }
   ],
   "source": [
    "teams = matchlcs['team'].unique()\n",
    "for team in teams:\n",
    "    matchlcs[['player','golddiffat10','golddiffat15']][(matchlcs['team'] == team) \n",
    "                                                   & (matchlcs['playerid'] != 100) \n",
    "                                                   &(matchlcs['playerid'] != 200)\n",
    "                                                   &(matchlcs['patch'] > 10.10)].groupby('player').mean().plot(title= team,kind='bar')"
   ]
  },
  {
   "cell_type": "code",
   "execution_count": 7,
   "metadata": {},
   "outputs": [
    {
     "data": {
      "image/png": "[encoded data removed]",
      "text/plain": [
       "<Figure size 432x288 with 1 Axes>"
      ]
     },
     "metadata": {
      "needs_background": "light"
     },
     "output_type": "display_data"
    },
    {
     "data": {
      "image/png": "[encoded data removed]",
      "text/plain": [
       "<Figure size 432x288 with 1 Axes>"
      ]
     },
     "metadata": {
      "needs_background": "light"
     },
     "output_type": "display_data"
    },
    {
     "data": {
      "image/png": "[encoded data removed]",
      "text/plain": [
       "<Figure size 432x288 with 1 Axes>"
      ]
     },
     "metadata": {
      "needs_background": "light"
     },
     "output_type": "display_data"
    },
    {
     "data": {
      "image/png": "[encoded data removed]",
      "text/plain": [
       "<Figure size 432x288 with 1 Axes>"
      ]
     },
     "metadata": {
      "needs_background": "light"
     },
     "output_type": "display_data"
    },
    {
     "data": {
      "image/png": "[encoded data removed]",
      "text/plain": [
       "<Figure size 432x288 with 1 Axes>"
      ]
     },
     "metadata": {
      "needs_background": "light"
     },
     "output_type": "display_data"
    }
   ],
   "source": [
    "pos = matchlcs[matchlcs['position'] != 'team']['position'].unique()\n",
    "for p in pos:    \n",
    "    matchlcs[matchlcs['position'] == p].groupby('player')[['golddiffat10','golddiffat15']].mean().sort_values(by = 'golddiffat10',ascending = False).plot(title=p,kind='bar')"
   ]
  },
  {
   "cell_type": "code",
   "execution_count": 8,
   "metadata": {},
   "outputs": [],
   "source": [
    "matchlcs['effgolddmg'] = (matchlcs['damageshare']) / match['earnedgoldshare']\n",
    "matchlcs['kp'] = (matchlcs['kills'] + matchlcs['assists']) / match['teamkills']"
   ]
  },
  {
   "cell_type": "code",
   "execution_count": 9,
   "metadata": {},
   "outputs": [
    {
     "data": {
      "text/plain": [
       "team                  player  \n",
       "FlyQuest              IgNar        1.0\n",
       "Team Liquid           CoreJJ       2.0\n",
       "Golden Guardians      huhi         3.0\n",
       "Immortals             Hakuho       4.0\n",
       "Team SoloMid          Treatz       5.0\n",
       "Counter Logic Gaming  Smoothie     6.0\n",
       "Evil Geniuses         Zeyzal       7.0\n",
       "Team SoloMid          Biofrost     8.0\n",
       "Dignitas              aphromoo     9.0\n",
       "Cloud9                Vulcan      10.0\n",
       "100 Thieves           Poome       11.0\n",
       "Immortals             Gate        12.0\n",
       "100 Thieves           Stunt       13.0\n",
       "Name: Weighted Rank, dtype: float64"
      ]
     },
     "execution_count": 9,
     "metadata": {},
     "output_type": "execute_result"
    }
   ],
   "source": [
    "test = matchlcs[(matchlcs['position'] == \"sup\")&(matchlcs['split'] == 'Summer')].groupby(['team','player'])[['wardskilled','vspm','assists','wpm','visionscore','wcpm','firstblood','golddiffat10','golddiffat15','kp']].mean().rank(method = 'dense',ascending = False)\n",
    "test.insert(loc=9,column='deaths', value=matchlcs[(matchlcs['position'] == \"sup\")&(matchlcs['split'] == 'Summer')].groupby(['team','player'])[['deaths']].mean().rank(ascending = True))\n",
    "test['Weighted Rank'] = test.sum(axis=1)\n",
    "test['Weighted Rank'] = test['Weighted Rank']/14\n",
    "test['Weighted Rank'].rank().sort_values()"
   ]
  },
  {
   "cell_type": "code",
   "execution_count": 10,
   "metadata": {},
   "outputs": [
    {
     "data": {
      "text/plain": [
       "team                  player    \n",
       "Team Liquid           Tactical       1.0\n",
       "FlyQuest              WildTurtle     2.0\n",
       "Golden Guardians      FBI            3.0\n",
       "Evil Geniuses         Bang           4.0\n",
       "Dignitas              Johnsun        5.0\n",
       "Team SoloMid          Doublelift     6.0\n",
       "Cloud9                Zven           7.0\n",
       "FlyQuest              MasH           8.0\n",
       "Counter Logic Gaming  Stixxay        9.0\n",
       "Immortals             Apollo        10.0\n",
       "100 Thieves           Cody Sun      11.0\n",
       "Immortals             Altec         12.0\n",
       "Name: Weighted Rank, dtype: float64"
      ]
     },
     "execution_count": 10,
     "metadata": {},
     "output_type": "execute_result"
    }
   ],
   "source": [
    "testbot = matchlcs[(matchlcs['position'] == \"bot\")&(matchlcs['split'] == 'Summer')].groupby(['team','player'])[['effgolddmg','firstblood','golddiffat10','golddiffat15','kp']].mean().rank(method = 'dense',ascending = False)\n",
    "testbot.insert(loc=5,column='deaths', value=matchlcs[(matchlcs['position'] == \"bot\")&(matchlcs['split'] == 'Summer')].groupby(['team','player'])[['deaths']].mean().rank(ascending = True))\n",
    "testbot['Weighted Rank'] = testbot.sum(axis=1)\n",
    "testbot['Weighted Rank'] = testbot['Weighted Rank']\n",
    "testbot['Weighted Rank'].rank().sort_values()"
   ]
  },
  {
   "cell_type": "code",
   "execution_count": 11,
   "metadata": {},
   "outputs": [
    {
     "data": {
      "text/plain": [
       "team\n",
       "Golden Guardians         1.5\n",
       "Team Liquid              1.5\n",
       "Cloud9                   3.0\n",
       "Evil Geniuses            4.0\n",
       "Dignitas                 5.0\n",
       "Team SoloMid             6.0\n",
       "FlyQuest                 7.0\n",
       "Immortals                8.0\n",
       "Counter Logic Gaming     9.0\n",
       "100 Thieves             10.0\n",
       "Name: Weighted Rank, dtype: float64"
      ]
     },
     "execution_count": 11,
     "metadata": {},
     "output_type": "execute_result"
    }
   ],
   "source": [
    "testbotduo = matchlcs[(matchlcs['position'] == \"bot\") | (matchlcs['position'] == \"sup\")&(matchlcs['split'] == 'Summer')].groupby(['team'])[['effgolddmg','firstblood','golddiffat10','golddiffat15','kp']].mean().rank(method = 'dense',ascending = False)\n",
    "testbotduo.insert(loc=5,column='deaths', value=matchlcs[(matchlcs['position'] == \"bot\") | (matchlcs['position'] == \"sup\")&(matchlcs['split'] == 'Summer')].groupby(['team'])[['deaths']].mean().rank(ascending = True))\n",
    "testbotduo['Weighted Rank'] = testbotduo.sum(axis=1)\n",
    "testbotduo['Weighted Rank'] = testbotduo['Weighted Rank']\n",
    "testbotduo['Weighted Rank'].rank().sort_values()"
   ]
  },
  {
   "cell_type": "code",
   "execution_count": 12,
   "metadata": {},
   "outputs": [
    {
     "data": {
      "text/plain": [
       "team                  player     \n",
       "Cloud9                Nisqy           1.0\n",
       "Team SoloMid          Bjergsen        2.0\n",
       "Team Liquid           Jensen          3.0\n",
       "Dignitas              Fenix           4.0\n",
       "                      Froggen         5.5\n",
       "FlyQuest              PowerOfEvil     5.5\n",
       "Evil Geniuses         Goldenglue      7.0\n",
       "Immortals             Eika            8.0\n",
       "                      Insanity        9.0\n",
       "Evil Geniuses         Jiizuke        10.0\n",
       "100 Thieves           Ryoma          11.5\n",
       "Golden Guardians      Damonte        11.5\n",
       "Counter Logic Gaming  Pobelter       13.0\n",
       "Name: Weighted Rank, dtype: float64"
      ]
     },
     "execution_count": 12,
     "metadata": {},
     "output_type": "execute_result"
    }
   ],
   "source": [
    "testmid = matchlcs[(matchlcs['position'] == \"mid\")&(matchlcs['split'] == 'Summer')].groupby(['team','player'])[['effgolddmg','firstblood','golddiffat10','golddiffat15','kp']].mean().rank(method = 'dense',ascending = False)\n",
    "testmid.insert(loc=5,column='deaths', value=matchlcs[(matchlcs['position'] == \"mid\")&(matchlcs['split'] == 'Summer')].groupby(['team','player'])[['deaths']].mean().rank(ascending = True))\n",
    "testmid['Weighted Rank'] = testmid.sum(axis=1)\n",
    "testmid['Weighted Rank'] = testmid['Weighted Rank']\n",
    "testmid['Weighted Rank'].rank().sort_values()"
   ]
  },
  {
   "cell_type": "code",
   "execution_count": 13,
   "metadata": {},
   "outputs": [
    {
     "data": {
      "text/plain": [
       "team                  player      \n",
       "Cloud9                Licorice         1.0\n",
       "100 Thieves           Ssumday          2.5\n",
       "Evil Geniuses         Huni             2.5\n",
       "Golden Guardians      Hauntzer         4.0\n",
       "Evil Geniuses         Kumo             5.5\n",
       "Team SoloMid          Broken Blade     5.5\n",
       "FlyQuest              Solo             7.5\n",
       "Team Liquid           Impact           7.5\n",
       "Counter Logic Gaming  Ruin             9.0\n",
       "Dignitas              Lourlo          10.0\n",
       "                      V1per           11.0\n",
       "Immortals             Allorim         12.0\n",
       "Counter Logic Gaming  Deus            13.0\n",
       "Immortals             sOAZ            14.0\n",
       "Name: Weighted Rank, dtype: float64"
      ]
     },
     "execution_count": 13,
     "metadata": {},
     "output_type": "execute_result"
    }
   ],
   "source": [
    "testtop = matchlcs[(matchlcs['position'] == \"top\")&(matchlcs['split'] == 'Summer')].groupby(['team','player'])[['effgolddmg','firstblood','golddiffat10','golddiffat15','kp']].mean().rank(method = 'dense',ascending = False)\n",
    "testtop.insert(loc=5,column='deaths', value=matchlcs[(matchlcs['position'] == \"top\")&(matchlcs['split'] == 'Summer')].groupby(['team','player'])[['deaths']].mean().rank(ascending = True))\n",
    "testtop['Weighted Rank'] = testtop.sum(axis=1)\n",
    "testtop['Weighted Rank'] = testtop['Weighted Rank']\n",
    "testtop['Weighted Rank'].rank().sort_values()"
   ]
  },
  {
   "cell_type": "code",
   "execution_count": 14,
   "metadata": {},
   "outputs": [
    {
     "data": {
      "text/plain": [
       "team                  player    \n",
       "FlyQuest              Santorin       1.0\n",
       "Cloud9                Blaber         2.0\n",
       "Dignitas              Dardoch        3.0\n",
       "100 Thieves           Contractz      4.0\n",
       "Golden Guardians      Closer         5.0\n",
       "Dignitas              Akaadian       6.0\n",
       "Team SoloMid          Spica          7.0\n",
       "Team Liquid           Broxah         8.0\n",
       "Counter Logic Gaming  Wiggily        9.0\n",
       "Immortals             Xmithie       10.0\n",
       "                      Potluck       11.0\n",
       "100 Thieves           Meteos        12.5\n",
       "Evil Geniuses         Svenskeren    12.5\n",
       "Name: Weighted Rank, dtype: float64"
      ]
     },
     "execution_count": 14,
     "metadata": {},
     "output_type": "execute_result"
    }
   ],
   "source": [
    "testjng = matchlcs[(matchlcs['position'] == \"jng\")&(matchlcs['split'] == 'Summer')].groupby(['team','player'])[['effgolddmg','firstblood','golddiffat10','golddiffat15','kp']].mean().rank(method = 'dense',ascending = False)\n",
    "testjng.insert(loc=5,column='deaths', value=matchlcs[(matchlcs['position'] == \"jng\")&(matchlcs['split'] == 'Summer')].groupby(['team','player'])[['deaths']].mean().rank(ascending = True))\n",
    "testjng['Weighted Rank'] = testjng.sum(axis=1)\n",
    "testjng['Weighted Rank'] = testjng['Weighted Rank']\n",
    "testjng['Weighted Rank'].rank().sort_values()"
   ]
  },
  {
   "cell_type": "markdown",
   "metadata": {},
   "source": [
    "# Following Code is playing around with varius pick and ban stuff"
   ]
  },
  {
   "cell_type": "code",
   "execution_count": 15,
   "metadata": {},
   "outputs": [
    {
     "ename": "FileNotFoundError",
     "evalue": "[Errno 2] No such file or directory: 'PickBan\\\\LeaguePB2020.csv'",
     "output_type": "error",
     "traceback": [
      "\u001b[1;31m---------------------------------------------------------------------------\u001b[0m",
      "\u001b[1;31mFileNotFoundError\u001b[0m                         Traceback (most recent call last)",
      "\u001b[1;32m<ipython-input-15-3573c09e6ad9>\u001b[0m in \u001b[0;36m<module>\u001b[1;34m\u001b[0m\n\u001b[1;32m----> 1\u001b[1;33m \u001b[0mpb\u001b[0m \u001b[1;33m=\u001b[0m \u001b[0mpd\u001b[0m\u001b[1;33m.\u001b[0m\u001b[0mread_csv\u001b[0m\u001b[1;33m(\u001b[0m\u001b[1;34m'PickBan\\LeaguePB2020.csv'\u001b[0m\u001b[1;33m)\u001b[0m\u001b[1;33m\u001b[0m\u001b[1;33m\u001b[0m\u001b[0m\n\u001b[0m",
      "\u001b[1;32m~\\AppData\\Roaming\\Python\\Python39\\site-packages\\pandas\\io\\parsers.py\u001b[0m in \u001b[0;36mread_csv\u001b[1;34m(filepath_or_buffer, sep, delimiter, header, names, index_col, usecols, squeeze, prefix, mangle_dupe_cols, dtype, engine, converters, true_values, false_values, skipinitialspace, skiprows, skipfooter, nrows, na_values, keep_default_na, na_filter, verbose, skip_blank_lines, parse_dates, infer_datetime_format, keep_date_col, date_parser, dayfirst, cache_dates, iterator, chunksize, compression, thousands, decimal, lineterminator, quotechar, quoting, doublequote, escapechar, comment, encoding, dialect, error_bad_lines, warn_bad_lines, delim_whitespace, low_memory, memory_map, float_precision, storage_options)\u001b[0m\n\u001b[0;32m    608\u001b[0m     \u001b[0mkwds\u001b[0m\u001b[1;33m.\u001b[0m\u001b[0mupdate\u001b[0m\u001b[1;33m(\u001b[0m\u001b[0mkwds_defaults\u001b[0m\u001b[1;33m)\u001b[0m\u001b[1;33m\u001b[0m\u001b[1;33m\u001b[0m\u001b[0m\n\u001b[0;32m    609\u001b[0m \u001b[1;33m\u001b[0m\u001b[0m\n\u001b[1;32m--> 610\u001b[1;33m     \u001b[1;32mreturn\u001b[0m \u001b[0m_read\u001b[0m\u001b[1;33m(\u001b[0m\u001b[0mfilepath_or_buffer\u001b[0m\u001b[1;33m,\u001b[0m \u001b[0mkwds\u001b[0m\u001b[1;33m)\u001b[0m\u001b[1;33m\u001b[0m\u001b[1;33m\u001b[0m\u001b[0m\n\u001b[0m\u001b[0;32m    611\u001b[0m \u001b[1;33m\u001b[0m\u001b[0m\n\u001b[0;32m    612\u001b[0m \u001b[1;33m\u001b[0m\u001b[0m\n",
      "\u001b[1;32m~\\AppData\\Roaming\\Python\\Python39\\site-packages\\pandas\\io\\parsers.py\u001b[0m in \u001b[0;36m_read\u001b[1;34m(filepath_or_buffer, kwds)\u001b[0m\n\u001b[0;32m    460\u001b[0m \u001b[1;33m\u001b[0m\u001b[0m\n\u001b[0;32m    461\u001b[0m     \u001b[1;31m# Create the parser.\u001b[0m\u001b[1;33m\u001b[0m\u001b[1;33m\u001b[0m\u001b[1;33m\u001b[0m\u001b[0m\n\u001b[1;32m--> 462\u001b[1;33m     \u001b[0mparser\u001b[0m \u001b[1;33m=\u001b[0m \u001b[0mTextFileReader\u001b[0m\u001b[1;33m(\u001b[0m\u001b[0mfilepath_or_buffer\u001b[0m\u001b[1;33m,\u001b[0m \u001b[1;33m**\u001b[0m\u001b[0mkwds\u001b[0m\u001b[1;33m)\u001b[0m\u001b[1;33m\u001b[0m\u001b[1;33m\u001b[0m\u001b[0m\n\u001b[0m\u001b[0;32m    463\u001b[0m \u001b[1;33m\u001b[0m\u001b[0m\n\u001b[0;32m    464\u001b[0m     \u001b[1;32mif\u001b[0m \u001b[0mchunksize\u001b[0m \u001b[1;32mor\u001b[0m \u001b[0miterator\u001b[0m\u001b[1;33m:\u001b[0m\u001b[1;33m\u001b[0m\u001b[1;33m\u001b[0m\u001b[0m\n",
      "\u001b[1;32m~\\AppData\\Roaming\\Python\\Python39\\site-packages\\pandas\\io\\parsers.py\u001b[0m in \u001b[0;36m__init__\u001b[1;34m(self, f, engine, **kwds)\u001b[0m\n\u001b[0;32m    817\u001b[0m             \u001b[0mself\u001b[0m\u001b[1;33m.\u001b[0m\u001b[0moptions\u001b[0m\u001b[1;33m[\u001b[0m\u001b[1;34m\"has_index_names\"\u001b[0m\u001b[1;33m]\u001b[0m \u001b[1;33m=\u001b[0m \u001b[0mkwds\u001b[0m\u001b[1;33m[\u001b[0m\u001b[1;34m\"has_index_names\"\u001b[0m\u001b[1;33m]\u001b[0m\u001b[1;33m\u001b[0m\u001b[1;33m\u001b[0m\u001b[0m\n\u001b[0;32m    818\u001b[0m \u001b[1;33m\u001b[0m\u001b[0m\n\u001b[1;32m--> 819\u001b[1;33m         \u001b[0mself\u001b[0m\u001b[1;33m.\u001b[0m\u001b[0m_engine\u001b[0m \u001b[1;33m=\u001b[0m \u001b[0mself\u001b[0m\u001b[1;33m.\u001b[0m\u001b[0m_make_engine\u001b[0m\u001b[1;33m(\u001b[0m\u001b[0mself\u001b[0m\u001b[1;33m.\u001b[0m\u001b[0mengine\u001b[0m\u001b[1;33m)\u001b[0m\u001b[1;33m\u001b[0m\u001b[1;33m\u001b[0m\u001b[0m\n\u001b[0m\u001b[0;32m    820\u001b[0m \u001b[1;33m\u001b[0m\u001b[0m\n\u001b[0;32m    821\u001b[0m     \u001b[1;32mdef\u001b[0m \u001b[0mclose\u001b[0m\u001b[1;33m(\u001b[0m\u001b[0mself\u001b[0m\u001b[1;33m)\u001b[0m\u001b[1;33m:\u001b[0m\u001b[1;33m\u001b[0m\u001b[1;33m\u001b[0m\u001b[0m\n",
      "\u001b[1;32m~\\AppData\\Roaming\\Python\\Python39\\site-packages\\pandas\\io\\parsers.py\u001b[0m in \u001b[0;36m_make_engine\u001b[1;34m(self, engine)\u001b[0m\n\u001b[0;32m   1048\u001b[0m             )\n\u001b[0;32m   1049\u001b[0m         \u001b[1;31m# error: Too many arguments for \"ParserBase\"\u001b[0m\u001b[1;33m\u001b[0m\u001b[1;33m\u001b[0m\u001b[1;33m\u001b[0m\u001b[0m\n\u001b[1;32m-> 1050\u001b[1;33m         \u001b[1;32mreturn\u001b[0m \u001b[0mmapping\u001b[0m\u001b[1;33m[\u001b[0m\u001b[0mengine\u001b[0m\u001b[1;33m]\u001b[0m\u001b[1;33m(\u001b[0m\u001b[0mself\u001b[0m\u001b[1;33m.\u001b[0m\u001b[0mf\u001b[0m\u001b[1;33m,\u001b[0m \u001b[1;33m**\u001b[0m\u001b[0mself\u001b[0m\u001b[1;33m.\u001b[0m\u001b[0moptions\u001b[0m\u001b[1;33m)\u001b[0m  \u001b[1;31m# type: ignore[call-arg]\u001b[0m\u001b[1;33m\u001b[0m\u001b[1;33m\u001b[0m\u001b[0m\n\u001b[0m\u001b[0;32m   1051\u001b[0m \u001b[1;33m\u001b[0m\u001b[0m\n\u001b[0;32m   1052\u001b[0m     \u001b[1;32mdef\u001b[0m \u001b[0m_failover_to_python\u001b[0m\u001b[1;33m(\u001b[0m\u001b[0mself\u001b[0m\u001b[1;33m)\u001b[0m\u001b[1;33m:\u001b[0m\u001b[1;33m\u001b[0m\u001b[1;33m\u001b[0m\u001b[0m\n",
      "\u001b[1;32m~\\AppData\\Roaming\\Python\\Python39\\site-packages\\pandas\\io\\parsers.py\u001b[0m in \u001b[0;36m__init__\u001b[1;34m(self, src, **kwds)\u001b[0m\n\u001b[0;32m   1865\u001b[0m \u001b[1;33m\u001b[0m\u001b[0m\n\u001b[0;32m   1866\u001b[0m         \u001b[1;31m# open handles\u001b[0m\u001b[1;33m\u001b[0m\u001b[1;33m\u001b[0m\u001b[1;33m\u001b[0m\u001b[0m\n\u001b[1;32m-> 1867\u001b[1;33m         \u001b[0mself\u001b[0m\u001b[1;33m.\u001b[0m\u001b[0m_open_handles\u001b[0m\u001b[1;33m(\u001b[0m\u001b[0msrc\u001b[0m\u001b[1;33m,\u001b[0m \u001b[0mkwds\u001b[0m\u001b[1;33m)\u001b[0m\u001b[1;33m\u001b[0m\u001b[1;33m\u001b[0m\u001b[0m\n\u001b[0m\u001b[0;32m   1868\u001b[0m         \u001b[1;32massert\u001b[0m \u001b[0mself\u001b[0m\u001b[1;33m.\u001b[0m\u001b[0mhandles\u001b[0m \u001b[1;32mis\u001b[0m \u001b[1;32mnot\u001b[0m \u001b[1;32mNone\u001b[0m\u001b[1;33m\u001b[0m\u001b[1;33m\u001b[0m\u001b[0m\n\u001b[0;32m   1869\u001b[0m         \u001b[1;32mfor\u001b[0m \u001b[0mkey\u001b[0m \u001b[1;32min\u001b[0m \u001b[1;33m(\u001b[0m\u001b[1;34m\"storage_options\"\u001b[0m\u001b[1;33m,\u001b[0m \u001b[1;34m\"encoding\"\u001b[0m\u001b[1;33m,\u001b[0m \u001b[1;34m\"memory_map\"\u001b[0m\u001b[1;33m,\u001b[0m \u001b[1;34m\"compression\"\u001b[0m\u001b[1;33m)\u001b[0m\u001b[1;33m:\u001b[0m\u001b[1;33m\u001b[0m\u001b[1;33m\u001b[0m\u001b[0m\n",
      "\u001b[1;32m~\\AppData\\Roaming\\Python\\Python39\\site-packages\\pandas\\io\\parsers.py\u001b[0m in \u001b[0;36m_open_handles\u001b[1;34m(self, src, kwds)\u001b[0m\n\u001b[0;32m   1360\u001b[0m         \u001b[0mLet\u001b[0m \u001b[0mthe\u001b[0m \u001b[0mreaders\u001b[0m \u001b[0mopen\u001b[0m \u001b[0mIOHanldes\u001b[0m \u001b[0mafter\u001b[0m \u001b[0mthey\u001b[0m \u001b[0mare\u001b[0m \u001b[0mdone\u001b[0m \u001b[1;32mwith\u001b[0m \u001b[0mtheir\u001b[0m \u001b[0mpotential\u001b[0m \u001b[0mraises\u001b[0m\u001b[1;33m.\u001b[0m\u001b[1;33m\u001b[0m\u001b[1;33m\u001b[0m\u001b[0m\n\u001b[0;32m   1361\u001b[0m         \"\"\"\n\u001b[1;32m-> 1362\u001b[1;33m         self.handles = get_handle(\n\u001b[0m\u001b[0;32m   1363\u001b[0m             \u001b[0msrc\u001b[0m\u001b[1;33m,\u001b[0m\u001b[1;33m\u001b[0m\u001b[1;33m\u001b[0m\u001b[0m\n\u001b[0;32m   1364\u001b[0m             \u001b[1;34m\"r\"\u001b[0m\u001b[1;33m,\u001b[0m\u001b[1;33m\u001b[0m\u001b[1;33m\u001b[0m\u001b[0m\n",
      "\u001b[1;32m~\\AppData\\Roaming\\Python\\Python39\\site-packages\\pandas\\io\\common.py\u001b[0m in \u001b[0;36mget_handle\u001b[1;34m(path_or_buf, mode, encoding, compression, memory_map, is_text, errors, storage_options)\u001b[0m\n\u001b[0;32m    640\u001b[0m                 \u001b[0merrors\u001b[0m \u001b[1;33m=\u001b[0m \u001b[1;34m\"replace\"\u001b[0m\u001b[1;33m\u001b[0m\u001b[1;33m\u001b[0m\u001b[0m\n\u001b[0;32m    641\u001b[0m             \u001b[1;31m# Encoding\u001b[0m\u001b[1;33m\u001b[0m\u001b[1;33m\u001b[0m\u001b[1;33m\u001b[0m\u001b[0m\n\u001b[1;32m--> 642\u001b[1;33m             handle = open(\n\u001b[0m\u001b[0;32m    643\u001b[0m                 \u001b[0mhandle\u001b[0m\u001b[1;33m,\u001b[0m\u001b[1;33m\u001b[0m\u001b[1;33m\u001b[0m\u001b[0m\n\u001b[0;32m    644\u001b[0m                 \u001b[0mioargs\u001b[0m\u001b[1;33m.\u001b[0m\u001b[0mmode\u001b[0m\u001b[1;33m,\u001b[0m\u001b[1;33m\u001b[0m\u001b[1;33m\u001b[0m\u001b[0m\n",
      "\u001b[1;31mFileNotFoundError\u001b[0m: [Errno 2] No such file or directory: 'PickBan\\\\LeaguePB2020.csv'"
     ]
    }
   ],
   "source": [
    "pb = pd.read_csv('PickBan\\LeaguePB2020.csv')\n"
   ]
  },
  {
   "cell_type": "code",
   "execution_count": 18,
   "metadata": {
    "tags": []
   },
   "outputs": [
    {
     "ename": "NameError",
     "evalue": "name 'pb' is not defined",
     "output_type": "error",
     "traceback": [
      "\u001b[1;31m---------------------------------------------------------------------------\u001b[0m",
      "\u001b[1;31mNameError\u001b[0m                                 Traceback (most recent call last)",
      "\u001b[1;32m<ipython-input-18-1e49a55933e2>\u001b[0m in \u001b[0;36m<module>\u001b[1;34m\u001b[0m\n\u001b[1;32m----> 1\u001b[1;33m \u001b[0mpb\u001b[0m\u001b[1;33m.\u001b[0m\u001b[0mhead\u001b[0m\u001b[1;33m(\u001b[0m\u001b[1;33m)\u001b[0m\u001b[1;33m\u001b[0m\u001b[1;33m\u001b[0m\u001b[0m\n\u001b[0m",
      "\u001b[1;31mNameError\u001b[0m: name 'pb' is not defined"
     ]
    }
   ],
   "source": [
    "pb.head()"
   ]
  },
  {
   "cell_type": "code",
   "execution_count": 16,
   "metadata": {},
   "outputs": [
    {
     "ename": "NameError",
     "evalue": "name 'pb' is not defined",
     "output_type": "error",
     "traceback": [
      "\u001b[1;31m---------------------------------------------------------------------------\u001b[0m",
      "\u001b[1;31mNameError\u001b[0m                                 Traceback (most recent call last)",
      "\u001b[1;32m<ipython-input-16-4f63b67a3ca4>\u001b[0m in \u001b[0;36m<module>\u001b[1;34m\u001b[0m\n\u001b[1;32m----> 1\u001b[1;33m \u001b[0mpbrole\u001b[0m \u001b[1;33m=\u001b[0m \u001b[0mpb\u001b[0m\u001b[1;33m.\u001b[0m\u001b[0miloc\u001b[0m\u001b[1;33m[\u001b[0m\u001b[1;33m:\u001b[0m\u001b[1;33m,\u001b[0m\u001b[1;36m26\u001b[0m\u001b[1;33m:\u001b[0m\u001b[1;36m36\u001b[0m\u001b[1;33m]\u001b[0m\u001b[1;33m\u001b[0m\u001b[1;33m\u001b[0m\u001b[0m\n\u001b[0m",
      "\u001b[1;31mNameError\u001b[0m: name 'pb' is not defined"
     ]
    }
   ],
   "source": [
    "pbrole = pb.iloc[:,26:36]"
   ]
  },
  {
   "cell_type": "code",
   "execution_count": 17,
   "metadata": {},
   "outputs": [
    {
     "ename": "NameError",
     "evalue": "name 'pb' is not defined",
     "output_type": "error",
     "traceback": [
      "\u001b[1;31m---------------------------------------------------------------------------\u001b[0m",
      "\u001b[1;31mNameError\u001b[0m                                 Traceback (most recent call last)",
      "\u001b[1;32m<ipython-input-17-e1eb28a23e90>\u001b[0m in \u001b[0;36m<module>\u001b[1;34m\u001b[0m\n\u001b[1;32m----> 1\u001b[1;33m \u001b[0mpbrole\u001b[0m\u001b[1;33m[\u001b[0m\u001b[1;34m'Result'\u001b[0m\u001b[1;33m]\u001b[0m \u001b[1;33m=\u001b[0m \u001b[0mpb\u001b[0m\u001b[1;33m[\u001b[0m\u001b[1;34m'Result'\u001b[0m\u001b[1;33m]\u001b[0m\u001b[1;33m\u001b[0m\u001b[1;33m\u001b[0m\u001b[0m\n\u001b[0m",
      "\u001b[1;31mNameError\u001b[0m: name 'pb' is not defined"
     ]
    }
   ],
   "source": [
    "pbrole['Result'] = pb['Result']"
   ]
  },
  {
   "cell_type": "code",
   "execution_count": 17,
   "metadata": {
    "collapsed": true,
    "jupyter": {
     "outputs_hidden": true
    }
   },
   "outputs": [
    {
     "data": {
      "text/html": [
       "<div>\n",
       "<style scoped>\n",
       "    .dataframe tbody tr th:only-of-type {\n",
       "        vertical-align: middle;\n",
       "    }\n",
       "\n",
       "    .dataframe tbody tr th {\n",
       "        vertical-align: top;\n",
       "    }\n",
       "\n",
       "    .dataframe thead th {\n",
       "        text-align: right;\n",
       "    }\n",
       "</style>\n",
       "<table border=\"1\" class=\"dataframe\">\n",
       "  <thead>\n",
       "    <tr style=\"text-align: right;\">\n",
       "      <th></th>\n",
       "      <th>BR1</th>\n",
       "      <th>BR2</th>\n",
       "      <th>BR3</th>\n",
       "      <th>BR4</th>\n",
       "      <th>BR5</th>\n",
       "      <th>RR1</th>\n",
       "      <th>RR2</th>\n",
       "      <th>RR3</th>\n",
       "      <th>RR4</th>\n",
       "      <th>RR5</th>\n",
       "      <th>Result</th>\n",
       "    </tr>\n",
       "  </thead>\n",
       "  <tbody>\n",
       "    <tr>\n",
       "      <th>0</th>\n",
       "      <td>Bot</td>\n",
       "      <td>Jungle</td>\n",
       "      <td>Mid</td>\n",
       "      <td>Support</td>\n",
       "      <td>Top</td>\n",
       "      <td>Jungle</td>\n",
       "      <td>Bot</td>\n",
       "      <td>Support</td>\n",
       "      <td>Mid</td>\n",
       "      <td>Top</td>\n",
       "      <td>Blue</td>\n",
       "    </tr>\n",
       "    <tr>\n",
       "      <th>1</th>\n",
       "      <td>Mid</td>\n",
       "      <td>Bot</td>\n",
       "      <td>Top</td>\n",
       "      <td>Jungle</td>\n",
       "      <td>Support</td>\n",
       "      <td>Mid</td>\n",
       "      <td>Bot</td>\n",
       "      <td>Jungle</td>\n",
       "      <td>Top</td>\n",
       "      <td>Support</td>\n",
       "      <td>Red</td>\n",
       "    </tr>\n",
       "    <tr>\n",
       "      <th>2</th>\n",
       "      <td>Jungle</td>\n",
       "      <td>Mid</td>\n",
       "      <td>Bot</td>\n",
       "      <td>Support</td>\n",
       "      <td>Top</td>\n",
       "      <td>Mid</td>\n",
       "      <td>Bot</td>\n",
       "      <td>Jungle</td>\n",
       "      <td>Top</td>\n",
       "      <td>Support</td>\n",
       "      <td>Red</td>\n",
       "    </tr>\n",
       "    <tr>\n",
       "      <th>3</th>\n",
       "      <td>Support</td>\n",
       "      <td>Bot</td>\n",
       "      <td>Jungle</td>\n",
       "      <td>Mid</td>\n",
       "      <td>Top</td>\n",
       "      <td>Bot</td>\n",
       "      <td>Jungle</td>\n",
       "      <td>Top</td>\n",
       "      <td>Support</td>\n",
       "      <td>Mid</td>\n",
       "      <td>Red</td>\n",
       "    </tr>\n",
       "    <tr>\n",
       "      <th>4</th>\n",
       "      <td>Mid</td>\n",
       "      <td>Jungle</td>\n",
       "      <td>Bot</td>\n",
       "      <td>Top</td>\n",
       "      <td>Support</td>\n",
       "      <td>Bot</td>\n",
       "      <td>Jungle</td>\n",
       "      <td>Mid</td>\n",
       "      <td>Top</td>\n",
       "      <td>Support</td>\n",
       "      <td>Blue</td>\n",
       "    </tr>\n",
       "  </tbody>\n",
       "</table>\n",
       "</div>"
      ],
      "text/plain": [
       "       BR1     BR2     BR3      BR4      BR5     RR1     RR2      RR3  \\\n",
       "0      Bot  Jungle     Mid  Support      Top  Jungle     Bot  Support   \n",
       "1      Mid     Bot     Top   Jungle  Support     Mid     Bot   Jungle   \n",
       "2   Jungle     Mid     Bot  Support      Top     Mid     Bot   Jungle   \n",
       "3  Support     Bot  Jungle      Mid      Top     Bot  Jungle      Top   \n",
       "4      Mid  Jungle     Bot      Top  Support     Bot  Jungle      Mid   \n",
       "\n",
       "       RR4      RR5 Result  \n",
       "0      Mid      Top   Blue  \n",
       "1      Top  Support    Red  \n",
       "2      Top  Support    Red  \n",
       "3  Support      Mid    Red  \n",
       "4      Top  Support   Blue  "
      ]
     },
     "execution_count": 17,
     "metadata": {},
     "output_type": "execute_result"
    }
   ],
   "source": [
    "pbrole.head()"
   ]
  },
  {
   "cell_type": "code",
   "execution_count": null,
   "metadata": {},
   "outputs": [],
   "source": []
  },
  {
   "cell_type": "code",
   "execution_count": 14,
   "metadata": {},
   "outputs": [],
   "source": [
    "pb = pb.replace(\"Jungler\",\"Jungle\")\n",
    "pb = pb.replace(\"Bot Laner\", \"Bot\")\n",
    "pb = pb.replace(\"Mid Laner\", \"Mid\")\n",
    "pb = pb.replace(\"Top Laner\", \"Top\")\n",
    "pb = pb.replace(\"AD Carry\",\"Bot\")"
   ]
  },
  {
   "cell_type": "code",
   "execution_count": null,
   "metadata": {},
   "outputs": [],
   "source": []
  },
  {
   "cell_type": "code",
   "execution_count": 8,
   "metadata": {
    "collapsed": true,
    "jupyter": {
     "outputs_hidden": true
    }
   },
   "outputs": [
    {
     "data": {
      "text/html": [
       "<div>\n",
       "<style scoped>\n",
       "    .dataframe tbody tr th:only-of-type {\n",
       "        vertical-align: middle;\n",
       "    }\n",
       "\n",
       "    .dataframe tbody tr th {\n",
       "        vertical-align: top;\n",
       "    }\n",
       "\n",
       "    .dataframe thead th {\n",
       "        text-align: right;\n",
       "    }\n",
       "</style>\n",
       "<table border=\"1\" class=\"dataframe\">\n",
       "  <thead>\n",
       "    <tr style=\"text-align: right;\">\n",
       "      <th></th>\n",
       "      <th>League</th>\n",
       "      <th>BP1</th>\n",
       "      <th>0</th>\n",
       "    </tr>\n",
       "  </thead>\n",
       "  <tbody>\n",
       "    <tr>\n",
       "      <th>59</th>\n",
       "      <td>LEC</td>\n",
       "      <td>Ashe</td>\n",
       "      <td>1</td>\n",
       "    </tr>\n",
       "    <tr>\n",
       "      <th>69</th>\n",
       "      <td>LEC</td>\n",
       "      <td>LeBlanc</td>\n",
       "      <td>1</td>\n",
       "    </tr>\n",
       "    <tr>\n",
       "      <th>20</th>\n",
       "      <td>LCK</td>\n",
       "      <td>Soraka</td>\n",
       "      <td>1</td>\n",
       "    </tr>\n",
       "    <tr>\n",
       "      <th>21</th>\n",
       "      <td>LCK</td>\n",
       "      <td>Taric</td>\n",
       "      <td>1</td>\n",
       "    </tr>\n",
       "    <tr>\n",
       "      <th>68</th>\n",
       "      <td>LEC</td>\n",
       "      <td>Karma</td>\n",
       "      <td>1</td>\n",
       "    </tr>\n",
       "    <tr>\n",
       "      <th>...</th>\n",
       "      <td>...</td>\n",
       "      <td>...</td>\n",
       "      <td>...</td>\n",
       "    </tr>\n",
       "    <tr>\n",
       "      <th>97</th>\n",
       "      <td>LPL</td>\n",
       "      <td>Kalista</td>\n",
       "      <td>46</td>\n",
       "    </tr>\n",
       "    <tr>\n",
       "      <th>19</th>\n",
       "      <td>LCK</td>\n",
       "      <td>Sett</td>\n",
       "      <td>51</td>\n",
       "    </tr>\n",
       "    <tr>\n",
       "      <th>1</th>\n",
       "      <td>LCK</td>\n",
       "      <td>Aphelios</td>\n",
       "      <td>56</td>\n",
       "    </tr>\n",
       "    <tr>\n",
       "      <th>116</th>\n",
       "      <td>LPL</td>\n",
       "      <td>Varus</td>\n",
       "      <td>59</td>\n",
       "    </tr>\n",
       "    <tr>\n",
       "      <th>90</th>\n",
       "      <td>LPL</td>\n",
       "      <td>Aphelios</td>\n",
       "      <td>129</td>\n",
       "    </tr>\n",
       "  </tbody>\n",
       "</table>\n",
       "<p>120 rows × 3 columns</p>\n",
       "</div>"
      ],
      "text/plain": [
       "    League       BP1    0\n",
       "59     LEC      Ashe    1\n",
       "69     LEC   LeBlanc    1\n",
       "20     LCK    Soraka    1\n",
       "21     LCK     Taric    1\n",
       "68     LEC     Karma    1\n",
       "..     ...       ...  ...\n",
       "97     LPL   Kalista   46\n",
       "19     LCK      Sett   51\n",
       "1      LCK  Aphelios   56\n",
       "116    LPL     Varus   59\n",
       "90     LPL  Aphelios  129\n",
       "\n",
       "[120 rows x 3 columns]"
      ]
     },
     "execution_count": 8,
     "metadata": {},
     "output_type": "execute_result"
    }
   ],
   "source": [
    "grouped = pb.groupby(['League','BP1'],sort=True).size().reset_index()\n",
    "grouped.sort_values(0, ascending=True)"
   ]
  },
  {
   "cell_type": "code",
   "execution_count": 10,
   "metadata": {},
   "outputs": [],
   "source": [
    "pd.set_option('display.max_rows', None)\n"
   ]
  },
  {
   "cell_type": "code",
   "execution_count": 11,
   "metadata": {
    "collapsed": true,
    "jupyter": {
     "outputs_hidden": true
    }
   },
   "outputs": [
    {
     "data": {
      "text/html": [
       "<div>\n",
       "<style scoped>\n",
       "    .dataframe tbody tr th:only-of-type {\n",
       "        vertical-align: middle;\n",
       "    }\n",
       "\n",
       "    .dataframe tbody tr th {\n",
       "        vertical-align: top;\n",
       "    }\n",
       "\n",
       "    .dataframe thead th {\n",
       "        text-align: right;\n",
       "    }\n",
       "</style>\n",
       "<table border=\"1\" class=\"dataframe\">\n",
       "  <thead>\n",
       "    <tr style=\"text-align: right;\">\n",
       "      <th></th>\n",
       "      <th>League</th>\n",
       "      <th>BP1</th>\n",
       "    </tr>\n",
       "  </thead>\n",
       "  <tbody>\n",
       "    <tr>\n",
       "      <th>0</th>\n",
       "      <td>LCK</td>\n",
       "      <td>Aphelios</td>\n",
       "    </tr>\n",
       "    <tr>\n",
       "      <th>1</th>\n",
       "      <td>LCK</td>\n",
       "      <td>Rumble</td>\n",
       "    </tr>\n",
       "    <tr>\n",
       "      <th>2</th>\n",
       "      <td>LCK</td>\n",
       "      <td>Elise</td>\n",
       "    </tr>\n",
       "    <tr>\n",
       "      <th>3</th>\n",
       "      <td>LCK</td>\n",
       "      <td>Nautilus</td>\n",
       "    </tr>\n",
       "    <tr>\n",
       "      <th>4</th>\n",
       "      <td>LCK</td>\n",
       "      <td>Nautilus</td>\n",
       "    </tr>\n",
       "  </tbody>\n",
       "</table>\n",
       "</div>"
      ],
      "text/plain": [
       "  League       BP1\n",
       "0    LCK  Aphelios\n",
       "1    LCK    Rumble\n",
       "2    LCK     Elise\n",
       "3    LCK  Nautilus\n",
       "4    LCK  Nautilus"
      ]
     },
     "execution_count": 11,
     "metadata": {},
     "output_type": "execute_result"
    }
   ],
   "source": [
    "pbtest = pb[['League','BP1']]\n",
    "pbtest.head()"
   ]
  },
  {
   "cell_type": "code",
   "execution_count": 12,
   "metadata": {},
   "outputs": [],
   "source": [
    "grouped = pbtest.groupby(['League','BP1']).size().reset_index(name = 'Counts')"
   ]
  },
  {
   "cell_type": "code",
   "execution_count": 13,
   "metadata": {},
   "outputs": [],
   "source": [
    "pd.set_option('display.max_columns', None)\n"
   ]
  },
  {
   "cell_type": "code",
   "execution_count": 15,
   "metadata": {
    "collapsed": true,
    "jupyter": {
     "outputs_hidden": true
    }
   },
   "outputs": [
    {
     "ename": "ValueError",
     "evalue": "Value of 'y' is not the name of a column in 'data_frame'. Expected one of ['League', 'BP1'] but received: Counts",
     "output_type": "error",
     "traceback": [
      "\u001b[1;31m---------------------------------------------------------------------------\u001b[0m",
      "\u001b[1;31mValueError\u001b[0m                                Traceback (most recent call last)",
      "\u001b[1;32m<ipython-input-15-2e44cc9ea6e9>\u001b[0m in \u001b[0;36m<module>\u001b[1;34m\u001b[0m\n\u001b[0;32m      1\u001b[0m fig = go.Figure(px.bar(pbtest,x='BP1',y=\"Counts\",facet_col = \"League\",color=\"League\"\n\u001b[1;32m----> 2\u001b[1;33m             ,title = \"First Pick by Region\", barmode='group',template='simple_white'))\n\u001b[0m\u001b[0;32m      3\u001b[0m \u001b[1;33m\u001b[0m\u001b[0m\n\u001b[0;32m      4\u001b[0m \u001b[0mfig\u001b[0m\u001b[1;33m.\u001b[0m\u001b[0mshow\u001b[0m\u001b[1;33m(\u001b[0m\u001b[1;33m)\u001b[0m\u001b[1;33m\u001b[0m\u001b[1;33m\u001b[0m\u001b[0m\n",
      "\u001b[1;32m~\\AppData\\Roaming\\Python\\Python37\\site-packages\\plotly\\express\\_chart_types.py\u001b[0m in \u001b[0;36mbar\u001b[1;34m(data_frame, x, y, color, facet_row, facet_col, facet_col_wrap, hover_name, hover_data, custom_data, text, error_x, error_x_minus, error_y, error_y_minus, animation_frame, animation_group, category_orders, labels, color_discrete_sequence, color_discrete_map, color_continuous_scale, range_color, color_continuous_midpoint, opacity, orientation, barmode, log_x, log_y, range_x, range_y, title, template, width, height)\u001b[0m\n\u001b[0;32m    339\u001b[0m         \u001b[0mconstructor\u001b[0m\u001b[1;33m=\u001b[0m\u001b[0mgo\u001b[0m\u001b[1;33m.\u001b[0m\u001b[0mBar\u001b[0m\u001b[1;33m,\u001b[0m\u001b[1;33m\u001b[0m\u001b[1;33m\u001b[0m\u001b[0m\n\u001b[0;32m    340\u001b[0m         \u001b[0mtrace_patch\u001b[0m\u001b[1;33m=\u001b[0m\u001b[0mdict\u001b[0m\u001b[1;33m(\u001b[0m\u001b[0mtextposition\u001b[0m\u001b[1;33m=\u001b[0m\u001b[1;34m\"auto\"\u001b[0m\u001b[1;33m)\u001b[0m\u001b[1;33m,\u001b[0m\u001b[1;33m\u001b[0m\u001b[1;33m\u001b[0m\u001b[0m\n\u001b[1;32m--> 341\u001b[1;33m         \u001b[0mlayout_patch\u001b[0m\u001b[1;33m=\u001b[0m\u001b[0mdict\u001b[0m\u001b[1;33m(\u001b[0m\u001b[0mbarmode\u001b[0m\u001b[1;33m=\u001b[0m\u001b[0mbarmode\u001b[0m\u001b[1;33m)\u001b[0m\u001b[1;33m,\u001b[0m\u001b[1;33m\u001b[0m\u001b[1;33m\u001b[0m\u001b[0m\n\u001b[0m\u001b[0;32m    342\u001b[0m     )\n\u001b[0;32m    343\u001b[0m \u001b[1;33m\u001b[0m\u001b[0m\n",
      "\u001b[1;32m~\\AppData\\Roaming\\Python\\Python37\\site-packages\\plotly\\express\\_core.py\u001b[0m in \u001b[0;36mmake_figure\u001b[1;34m(args, constructor, trace_patch, layout_patch)\u001b[0m\n\u001b[0;32m   1793\u001b[0m     \u001b[0mapply_default_cascade\u001b[0m\u001b[1;33m(\u001b[0m\u001b[0margs\u001b[0m\u001b[1;33m)\u001b[0m\u001b[1;33m\u001b[0m\u001b[1;33m\u001b[0m\u001b[0m\n\u001b[0;32m   1794\u001b[0m \u001b[1;33m\u001b[0m\u001b[0m\n\u001b[1;32m-> 1795\u001b[1;33m     \u001b[0margs\u001b[0m \u001b[1;33m=\u001b[0m \u001b[0mbuild_dataframe\u001b[0m\u001b[1;33m(\u001b[0m\u001b[0margs\u001b[0m\u001b[1;33m,\u001b[0m \u001b[0mconstructor\u001b[0m\u001b[1;33m)\u001b[0m\u001b[1;33m\u001b[0m\u001b[1;33m\u001b[0m\u001b[0m\n\u001b[0m\u001b[0;32m   1796\u001b[0m     \u001b[1;32mif\u001b[0m \u001b[0mconstructor\u001b[0m \u001b[1;32min\u001b[0m \u001b[1;33m[\u001b[0m\u001b[0mgo\u001b[0m\u001b[1;33m.\u001b[0m\u001b[0mTreemap\u001b[0m\u001b[1;33m,\u001b[0m \u001b[0mgo\u001b[0m\u001b[1;33m.\u001b[0m\u001b[0mSunburst\u001b[0m\u001b[1;33m]\u001b[0m \u001b[1;32mand\u001b[0m \u001b[0margs\u001b[0m\u001b[1;33m[\u001b[0m\u001b[1;34m\"path\"\u001b[0m\u001b[1;33m]\u001b[0m \u001b[1;32mis\u001b[0m \u001b[1;32mnot\u001b[0m \u001b[1;32mNone\u001b[0m\u001b[1;33m:\u001b[0m\u001b[1;33m\u001b[0m\u001b[1;33m\u001b[0m\u001b[0m\n\u001b[0;32m   1797\u001b[0m         \u001b[0margs\u001b[0m \u001b[1;33m=\u001b[0m \u001b[0mprocess_dataframe_hierarchy\u001b[0m\u001b[1;33m(\u001b[0m\u001b[0margs\u001b[0m\u001b[1;33m)\u001b[0m\u001b[1;33m\u001b[0m\u001b[1;33m\u001b[0m\u001b[0m\n",
      "\u001b[1;32m~\\AppData\\Roaming\\Python\\Python37\\site-packages\\plotly\\express\\_core.py\u001b[0m in \u001b[0;36mbuild_dataframe\u001b[1;34m(args, constructor)\u001b[0m\n\u001b[0;32m   1353\u001b[0m \u001b[1;33m\u001b[0m\u001b[0m\n\u001b[0;32m   1354\u001b[0m     df_output, wide_id_vars = process_args_into_dataframe(\n\u001b[1;32m-> 1355\u001b[1;33m         \u001b[0margs\u001b[0m\u001b[1;33m,\u001b[0m \u001b[0mwide_mode\u001b[0m\u001b[1;33m,\u001b[0m \u001b[0mvar_name\u001b[0m\u001b[1;33m,\u001b[0m \u001b[0mvalue_name\u001b[0m\u001b[1;33m\u001b[0m\u001b[1;33m\u001b[0m\u001b[0m\n\u001b[0m\u001b[0;32m   1356\u001b[0m     )\n\u001b[0;32m   1357\u001b[0m \u001b[1;33m\u001b[0m\u001b[0m\n",
      "\u001b[1;32m~\\AppData\\Roaming\\Python\\Python37\\site-packages\\plotly\\express\\_core.py\u001b[0m in \u001b[0;36mprocess_args_into_dataframe\u001b[1;34m(args, wide_mode, var_name, value_name)\u001b[0m\n\u001b[0;32m   1159\u001b[0m                         \u001b[1;32mif\u001b[0m \u001b[0margument\u001b[0m \u001b[1;33m==\u001b[0m \u001b[1;34m\"index\"\u001b[0m\u001b[1;33m:\u001b[0m\u001b[1;33m\u001b[0m\u001b[1;33m\u001b[0m\u001b[0m\n\u001b[0;32m   1160\u001b[0m                             \u001b[0merr_msg\u001b[0m \u001b[1;33m+=\u001b[0m \u001b[1;34m\"\\n To use the index, pass it in directly as `df.index`.\"\u001b[0m\u001b[1;33m\u001b[0m\u001b[1;33m\u001b[0m\u001b[0m\n\u001b[1;32m-> 1161\u001b[1;33m                         \u001b[1;32mraise\u001b[0m \u001b[0mValueError\u001b[0m\u001b[1;33m(\u001b[0m\u001b[0merr_msg\u001b[0m\u001b[1;33m)\u001b[0m\u001b[1;33m\u001b[0m\u001b[1;33m\u001b[0m\u001b[0m\n\u001b[0m\u001b[0;32m   1162\u001b[0m                 \u001b[1;32melif\u001b[0m \u001b[0mlength\u001b[0m \u001b[1;32mand\u001b[0m \u001b[0mlen\u001b[0m\u001b[1;33m(\u001b[0m\u001b[0mdf_input\u001b[0m\u001b[1;33m[\u001b[0m\u001b[0margument\u001b[0m\u001b[1;33m]\u001b[0m\u001b[1;33m)\u001b[0m \u001b[1;33m!=\u001b[0m \u001b[0mlength\u001b[0m\u001b[1;33m:\u001b[0m\u001b[1;33m\u001b[0m\u001b[1;33m\u001b[0m\u001b[0m\n\u001b[0;32m   1163\u001b[0m                     raise ValueError(\n",
      "\u001b[1;31mValueError\u001b[0m: Value of 'y' is not the name of a column in 'data_frame'. Expected one of ['League', 'BP1'] but received: Counts"
     ]
    }
   ],
   "source": [
    "fig = go.Figure(px.bar(pbtest,x='BP1',y=\"Counts\",facet_col = \"League\",color=\"League\"\n",
    "            ,title = \"First Pick by Region\", barmode='group',template='simple_white'))\n",
    "\n",
    "fig.show()"
   ]
  },
  {
   "cell_type": "code",
   "execution_count": 28,
   "metadata": {},
   "outputs": [
    {
     "data": {
      "text/html": [
       "        <script type=\"text/javascript\">\n",
       "        window.PlotlyConfig = {MathJaxConfig: 'local'};\n",
       "        if (window.MathJax) {MathJax.Hub.Config({SVG: {font: \"STIX-Web\"}});}\n",
       "        if (typeof require !== 'undefined') {\n",
       "        require.undef(\"plotly\");\n",
       "        requirejs.config({\n",
       "            paths: {\n",
       "                'plotly': ['https://cdn.plot.ly/plotly-latest.min']\n",
       "            }\n",
       "        });\n",
       "        require(['plotly'], function(Plotly) {\n",
       "            window._Plotly = Plotly;\n",
       "        });\n",
       "        }\n",
       "        </script>\n",
       "        "
      ]
     },
     "metadata": {},
     "output_type": "display_data"
    }
   ],
   "source": [
    "# Import the necessaries libraries\n",
    "import pandas as pd\n",
    "import numpy as np\n",
    "import matplotlib.pyplot as plt\n",
    "import scipy as sp\n",
    "import seaborn as sb\n",
    "import plotly.express as px\n",
    "import plotly.graph_objects as go\n",
    "\n",
    "\n",
    "\n",
    "\n",
    "match = pd.read_csv(\"2020match.csv\")\n",
    "\n",
    "match_champ = match[[\"champion\",\"result\"]]\n",
    "match_champ = match_champ.dropna()\n",
    "\n",
    "def PickrateByChamp(data,champ):\n",
    "    return len(data[(data['champion'] == champ)])/(len(data)/10)\n",
    "\n",
    "def WinrateByChamp(data,champ):\n",
    "    return len(data[(data['champion'] == champ) & (data['result'] == 1)]) / len(data[(data['champion'] == champ)])\n",
    "\n",
    "ListofChampions = match_champ[\"champion\"].unique()\n",
    "ListofChampionspd = pd.DataFrame(ListofChampions, columns=['Champion'])\n",
    "ListofChampionspd.sort_values(by = 'Champion')\n",
    "\n",
    "ListofChampionspd['Winrate'] = ListofChampionspd['Champion'].apply(lambda x: WinrateByChamp(match_champ,x))\n",
    "ListofChampionspd['Pickrate'] = ListofChampionspd['Champion'].apply(lambda x: PickrateByChamp(match_champ,x))\n",
    "\n",
    "ListofChampionspd.head()\n",
    "\n",
    "def BanrateByChamp(data,champ):\n",
    "    return len(matchteam[(matchteam['ban1'] == champ)|\n",
    "          (matchteam['ban2'] == champ)|\n",
    "          (matchteam['ban3'] == champ)|\n",
    "          (matchteam['ban4'] == champ)|\n",
    "          (matchteam['ban5'] == champ)]) / (len(data)/2)"
   ]
  },
  {
   "cell_type": "code",
   "execution_count": 37,
   "metadata": {
    "tags": []
   },
   "outputs": [
    {
     "data": {
      "text/html": [
       "<div>\n",
       "<style scoped>\n",
       "    .dataframe tbody tr th:only-of-type {\n",
       "        vertical-align: middle;\n",
       "    }\n",
       "\n",
       "    .dataframe tbody tr th {\n",
       "        vertical-align: top;\n",
       "    }\n",
       "\n",
       "    .dataframe thead th {\n",
       "        text-align: right;\n",
       "    }\n",
       "</style>\n",
       "<table border=\"1\" class=\"dataframe\">\n",
       "  <thead>\n",
       "    <tr style=\"text-align: right;\">\n",
       "      <th></th>\n",
       "      <th>Champion</th>\n",
       "      <th>Winrate</th>\n",
       "      <th>Pickrate</th>\n",
       "    </tr>\n",
       "  </thead>\n",
       "  <tbody>\n",
       "    <tr>\n",
       "      <th>0</th>\n",
       "      <td>Aatrox</td>\n",
       "      <td>0.468828</td>\n",
       "      <td>0.305407</td>\n",
       "    </tr>\n",
       "    <tr>\n",
       "      <th>107</th>\n",
       "      <td>Ahri</td>\n",
       "      <td>0.000000</td>\n",
       "      <td>0.001523</td>\n",
       "    </tr>\n",
       "    <tr>\n",
       "      <th>42</th>\n",
       "      <td>Akali</td>\n",
       "      <td>0.520000</td>\n",
       "      <td>0.038081</td>\n",
       "    </tr>\n",
       "    <tr>\n",
       "      <th>71</th>\n",
       "      <td>Alistar</td>\n",
       "      <td>0.562500</td>\n",
       "      <td>0.024372</td>\n",
       "    </tr>\n",
       "    <tr>\n",
       "      <th>104</th>\n",
       "      <td>Anivia</td>\n",
       "      <td>0.000000</td>\n",
       "      <td>0.001523</td>\n",
       "    </tr>\n",
       "    <tr>\n",
       "      <th>...</th>\n",
       "      <td>...</td>\n",
       "      <td>...</td>\n",
       "      <td>...</td>\n",
       "    </tr>\n",
       "    <tr>\n",
       "      <th>120</th>\n",
       "      <td>Zed</td>\n",
       "      <td>0.500000</td>\n",
       "      <td>0.001523</td>\n",
       "    </tr>\n",
       "    <tr>\n",
       "      <th>79</th>\n",
       "      <td>Ziggs</td>\n",
       "      <td>0.388889</td>\n",
       "      <td>0.013709</td>\n",
       "    </tr>\n",
       "    <tr>\n",
       "      <th>50</th>\n",
       "      <td>Zilean</td>\n",
       "      <td>0.516129</td>\n",
       "      <td>0.023610</td>\n",
       "    </tr>\n",
       "    <tr>\n",
       "      <th>21</th>\n",
       "      <td>Zoe</td>\n",
       "      <td>0.496753</td>\n",
       "      <td>0.234577</td>\n",
       "    </tr>\n",
       "    <tr>\n",
       "      <th>132</th>\n",
       "      <td>Zyra</td>\n",
       "      <td>0.000000</td>\n",
       "      <td>0.001523</td>\n",
       "    </tr>\n",
       "  </tbody>\n",
       "</table>\n",
       "<p>134 rows × 3 columns</p>\n",
       "</div>"
      ],
      "text/plain": [
       "    Champion   Winrate  Pickrate\n",
       "0     Aatrox  0.468828  0.305407\n",
       "107     Ahri  0.000000  0.001523\n",
       "42     Akali  0.520000  0.038081\n",
       "71   Alistar  0.562500  0.024372\n",
       "104   Anivia  0.000000  0.001523\n",
       "..       ...       ...       ...\n",
       "120      Zed  0.500000  0.001523\n",
       "79     Ziggs  0.388889  0.013709\n",
       "50    Zilean  0.516129  0.023610\n",
       "21       Zoe  0.496753  0.234577\n",
       "132     Zyra  0.000000  0.001523\n",
       "\n",
       "[134 rows x 3 columns]"
      ]
     },
     "execution_count": 37,
     "metadata": {},
     "output_type": "execute_result"
    }
   ],
   "source": [
    "matchbig = match[(match['league'] == \"LCS\")|(match['league'] == \"LPL\")|(match['league'] == \"LCK\")|(match['league'] == \"LEC\")]\n",
    "\n",
    "match_champ = matchbig[[\"champion\",\"result\"]]\n",
    "match_champ = match_champ.dropna()\n",
    "\n",
    "ListofChampions = match_champ[\"champion\"].unique()\n",
    "ListofChampionspd = pd.DataFrame(ListofChampions, columns=['Champion'])\n",
    "ListofChampionspd.sort_values(by = 'Champion')\n",
    "\n",
    "ListofChampionspd['Winrate'] = ListofChampionspd['Champion'].apply(lambda x: WinrateByChamp(match_champ,x))\n",
    "ListofChampionspd['Pickrate'] = ListofChampionspd['Champion'].apply(lambda x: PickrateByChamp(match_champ,x))\n",
    "\n",
    "ListofChampionspd.sort_values(by='Champion')"
   ]
  },
  {
   "cell_type": "code",
   "execution_count": 43,
   "metadata": {},
   "outputs": [
    {
     "ename": "AttributeError",
     "evalue": "'FacetGrid' object has no attribute 'show'",
     "output_type": "error",
     "traceback": [
      "\u001b[1;31m---------------------------------------------------------------------------\u001b[0m",
      "\u001b[1;31mAttributeError\u001b[0m                            Traceback (most recent call last)",
      "\u001b[1;32m<ipython-input-43-a64f38cbaf7d>\u001b[0m in \u001b[0;36m<module>\u001b[1;34m\u001b[0m\n\u001b[0;32m      1\u001b[0m \u001b[0mfig\u001b[0m \u001b[1;33m=\u001b[0m \u001b[0msb\u001b[0m\u001b[1;33m.\u001b[0m\u001b[0mrelplot\u001b[0m\u001b[1;33m(\u001b[0m\u001b[0mdata\u001b[0m\u001b[1;33m=\u001b[0m\u001b[0mListofChampionspd\u001b[0m\u001b[1;33m,\u001b[0m \u001b[0mx\u001b[0m\u001b[1;33m=\u001b[0m\u001b[1;34m'Pickrate'\u001b[0m\u001b[1;33m,\u001b[0m\u001b[0my\u001b[0m\u001b[1;33m=\u001b[0m\u001b[1;34m'Winrate'\u001b[0m\u001b[1;33m,\u001b[0m\u001b[0mhue\u001b[0m\u001b[1;33m=\u001b[0m\u001b[1;34m'Champion'\u001b[0m\u001b[1;33m)\u001b[0m\u001b[1;33m\u001b[0m\u001b[1;33m\u001b[0m\u001b[0m\n\u001b[1;32m----> 2\u001b[1;33m \u001b[0mfig\u001b[0m\u001b[1;33m.\u001b[0m\u001b[0mshow\u001b[0m\u001b[1;33m(\u001b[0m\u001b[1;33m)\u001b[0m\u001b[1;33m\u001b[0m\u001b[1;33m\u001b[0m\u001b[0m\n\u001b[0m",
      "\u001b[1;31mAttributeError\u001b[0m: 'FacetGrid' object has no attribute 'show'"
     ]
    },
    {
     "data": {
      "image/png": "[encoded data removed]",
      "text/plain": [
       "<Figure size 464.5x360 with 1 Axes>"
      ]
     },
     "metadata": {
      "needs_background": "light"
     },
     "output_type": "display_data"
    }
   ],
   "source": [
    "fig = sb.relplot(data=ListofChampionspd, x='Pickrate',y='Winrate',hue='Champion')\n",
    "fig.show()"
   ]
  },
  {
   "cell_type": "code",
   "execution_count": null,
   "metadata": {},
   "outputs": [],
   "source": []
  },
  {
   "cell_type": "code",
   "execution_count": 39,
   "metadata": {},
   "outputs": [],
   "source": [
    "def BanrateByChamp(data,champ):\n",
    "    return len(matchteam[(matchteam['ban1'] == champ)|\n",
    "          (matchteam['ban2'] == champ)|\n",
    "          (matchteam['ban3'] == champ)|\n",
    "          (matchteam['ban4'] == champ)|\n",
    "          (matchteam['ban5'] == champ)]) / (len(data)/2)"
   ]
  },
  {
   "cell_type": "code",
   "execution_count": 44,
   "metadata": {
    "tags": []
   },
   "outputs": [
    {
     "data": {
      "text/html": [
       "<div>\n",
       "<style scoped>\n",
       "    .dataframe tbody tr th:only-of-type {\n",
       "        vertical-align: middle;\n",
       "    }\n",
       "\n",
       "    .dataframe tbody tr th {\n",
       "        vertical-align: top;\n",
       "    }\n",
       "\n",
       "    .dataframe thead th {\n",
       "        text-align: right;\n",
       "    }\n",
       "</style>\n",
       "<table border=\"1\" class=\"dataframe\">\n",
       "  <thead>\n",
       "    <tr style=\"text-align: right;\">\n",
       "      <th></th>\n",
       "      <th>gameid</th>\n",
       "      <th>datacompleteness</th>\n",
       "      <th>url</th>\n",
       "      <th>league</th>\n",
       "      <th>year</th>\n",
       "      <th>split</th>\n",
       "      <th>playoffs</th>\n",
       "      <th>date</th>\n",
       "      <th>game</th>\n",
       "      <th>patch</th>\n",
       "      <th>...</th>\n",
       "      <th>csdiffat10</th>\n",
       "      <th>goldat15</th>\n",
       "      <th>xpat15</th>\n",
       "      <th>csat15</th>\n",
       "      <th>opp_goldat15</th>\n",
       "      <th>opp_xpat15</th>\n",
       "      <th>opp_csat15</th>\n",
       "      <th>golddiffat15</th>\n",
       "      <th>xpdiffat15</th>\n",
       "      <th>csdiffat15</th>\n",
       "    </tr>\n",
       "  </thead>\n",
       "  <tbody>\n",
       "    <tr>\n",
       "      <th>130</th>\n",
       "      <td>5655-7249</td>\n",
       "      <td>complete</td>\n",
       "      <td>https://lpl.qq.com/es/stats.shtml?bmid=5655</td>\n",
       "      <td>LPL</td>\n",
       "      <td>2020</td>\n",
       "      <td>Spring</td>\n",
       "      <td>0</td>\n",
       "      <td>2020-01-13 9:22</td>\n",
       "      <td>1</td>\n",
       "      <td>10.10</td>\n",
       "      <td>...</td>\n",
       "      <td>5.0</td>\n",
       "      <td>24015.0</td>\n",
       "      <td>27080.0</td>\n",
       "      <td>476.0</td>\n",
       "      <td>24974.0</td>\n",
       "      <td>28055.0</td>\n",
       "      <td>482.0</td>\n",
       "      <td>-959.0</td>\n",
       "      <td>-975.0</td>\n",
       "      <td>-6.0</td>\n",
       "    </tr>\n",
       "    <tr>\n",
       "      <th>131</th>\n",
       "      <td>5655-7249</td>\n",
       "      <td>complete</td>\n",
       "      <td>https://lpl.qq.com/es/stats.shtml?bmid=5655</td>\n",
       "      <td>LPL</td>\n",
       "      <td>2020</td>\n",
       "      <td>Spring</td>\n",
       "      <td>0</td>\n",
       "      <td>2020-01-13 9:22</td>\n",
       "      <td>1</td>\n",
       "      <td>10.10</td>\n",
       "      <td>...</td>\n",
       "      <td>-5.0</td>\n",
       "      <td>24974.0</td>\n",
       "      <td>28055.0</td>\n",
       "      <td>482.0</td>\n",
       "      <td>24015.0</td>\n",
       "      <td>27080.0</td>\n",
       "      <td>476.0</td>\n",
       "      <td>959.0</td>\n",
       "      <td>975.0</td>\n",
       "      <td>6.0</td>\n",
       "    </tr>\n",
       "    <tr>\n",
       "      <th>142</th>\n",
       "      <td>5655-7250</td>\n",
       "      <td>complete</td>\n",
       "      <td>https://lpl.qq.com/es/stats.shtml?bmid=5655</td>\n",
       "      <td>LPL</td>\n",
       "      <td>2020</td>\n",
       "      <td>Spring</td>\n",
       "      <td>0</td>\n",
       "      <td>2020-01-13 10:37</td>\n",
       "      <td>2</td>\n",
       "      <td>10.10</td>\n",
       "      <td>...</td>\n",
       "      <td>21.0</td>\n",
       "      <td>23764.0</td>\n",
       "      <td>27637.0</td>\n",
       "      <td>476.0</td>\n",
       "      <td>25271.0</td>\n",
       "      <td>29495.0</td>\n",
       "      <td>450.0</td>\n",
       "      <td>-1507.0</td>\n",
       "      <td>-1858.0</td>\n",
       "      <td>26.0</td>\n",
       "    </tr>\n",
       "    <tr>\n",
       "      <th>143</th>\n",
       "      <td>5655-7250</td>\n",
       "      <td>complete</td>\n",
       "      <td>https://lpl.qq.com/es/stats.shtml?bmid=5655</td>\n",
       "      <td>LPL</td>\n",
       "      <td>2020</td>\n",
       "      <td>Spring</td>\n",
       "      <td>0</td>\n",
       "      <td>2020-01-13 10:37</td>\n",
       "      <td>2</td>\n",
       "      <td>10.10</td>\n",
       "      <td>...</td>\n",
       "      <td>-21.0</td>\n",
       "      <td>25271.0</td>\n",
       "      <td>29495.0</td>\n",
       "      <td>450.0</td>\n",
       "      <td>23764.0</td>\n",
       "      <td>27637.0</td>\n",
       "      <td>476.0</td>\n",
       "      <td>1507.0</td>\n",
       "      <td>1858.0</td>\n",
       "      <td>-26.0</td>\n",
       "    </tr>\n",
       "    <tr>\n",
       "      <th>154</th>\n",
       "      <td>5656-7252</td>\n",
       "      <td>complete</td>\n",
       "      <td>https://lpl.qq.com/es/stats.shtml?bmid=5656</td>\n",
       "      <td>LPL</td>\n",
       "      <td>2020</td>\n",
       "      <td>Spring</td>\n",
       "      <td>0</td>\n",
       "      <td>2020-01-13 11:26</td>\n",
       "      <td>1</td>\n",
       "      <td>10.10</td>\n",
       "      <td>...</td>\n",
       "      <td>1.0</td>\n",
       "      <td>24351.0</td>\n",
       "      <td>28922.0</td>\n",
       "      <td>474.0</td>\n",
       "      <td>22340.0</td>\n",
       "      <td>26722.0</td>\n",
       "      <td>476.0</td>\n",
       "      <td>2011.0</td>\n",
       "      <td>2200.0</td>\n",
       "      <td>-2.0</td>\n",
       "    </tr>\n",
       "    <tr>\n",
       "      <th>...</th>\n",
       "      <td>...</td>\n",
       "      <td>...</td>\n",
       "      <td>...</td>\n",
       "      <td>...</td>\n",
       "      <td>...</td>\n",
       "      <td>...</td>\n",
       "      <td>...</td>\n",
       "      <td>...</td>\n",
       "      <td>...</td>\n",
       "      <td>...</td>\n",
       "      <td>...</td>\n",
       "      <td>...</td>\n",
       "      <td>...</td>\n",
       "      <td>...</td>\n",
       "      <td>...</td>\n",
       "      <td>...</td>\n",
       "      <td>...</td>\n",
       "      <td>...</td>\n",
       "      <td>...</td>\n",
       "      <td>...</td>\n",
       "      <td>...</td>\n",
       "    </tr>\n",
       "    <tr>\n",
       "      <th>48500</th>\n",
       "      <td>ESPORTSTMNT01/1433946</td>\n",
       "      <td>complete</td>\n",
       "      <td>http://matchhistory.na.leagueoflegends.com/en/...</td>\n",
       "      <td>LCK</td>\n",
       "      <td>2020</td>\n",
       "      <td>Summer</td>\n",
       "      <td>0</td>\n",
       "      <td>2020-07-23 10:47</td>\n",
       "      <td>1</td>\n",
       "      <td>10.14</td>\n",
       "      <td>...</td>\n",
       "      <td>-15.0</td>\n",
       "      <td>23207.0</td>\n",
       "      <td>30435.0</td>\n",
       "      <td>542.0</td>\n",
       "      <td>24386.0</td>\n",
       "      <td>30739.0</td>\n",
       "      <td>580.0</td>\n",
       "      <td>-1179.0</td>\n",
       "      <td>-304.0</td>\n",
       "      <td>-38.0</td>\n",
       "    </tr>\n",
       "    <tr>\n",
       "      <th>48511</th>\n",
       "      <td>ESPORTSTMNT01/1433997</td>\n",
       "      <td>complete</td>\n",
       "      <td>http://matchhistory.na.leagueoflegends.com/en/...</td>\n",
       "      <td>LCK</td>\n",
       "      <td>2020</td>\n",
       "      <td>Summer</td>\n",
       "      <td>0</td>\n",
       "      <td>2020-07-23 12:27</td>\n",
       "      <td>2</td>\n",
       "      <td>10.14</td>\n",
       "      <td>...</td>\n",
       "      <td>-15.0</td>\n",
       "      <td>23190.0</td>\n",
       "      <td>27508.0</td>\n",
       "      <td>443.0</td>\n",
       "      <td>25436.0</td>\n",
       "      <td>27568.0</td>\n",
       "      <td>473.0</td>\n",
       "      <td>-2246.0</td>\n",
       "      <td>-60.0</td>\n",
       "      <td>-30.0</td>\n",
       "    </tr>\n",
       "    <tr>\n",
       "      <th>48512</th>\n",
       "      <td>ESPORTSTMNT01/1433997</td>\n",
       "      <td>complete</td>\n",
       "      <td>http://matchhistory.na.leagueoflegends.com/en/...</td>\n",
       "      <td>LCK</td>\n",
       "      <td>2020</td>\n",
       "      <td>Summer</td>\n",
       "      <td>0</td>\n",
       "      <td>2020-07-23 12:27</td>\n",
       "      <td>2</td>\n",
       "      <td>10.14</td>\n",
       "      <td>...</td>\n",
       "      <td>15.0</td>\n",
       "      <td>25436.0</td>\n",
       "      <td>27568.0</td>\n",
       "      <td>473.0</td>\n",
       "      <td>23190.0</td>\n",
       "      <td>27508.0</td>\n",
       "      <td>443.0</td>\n",
       "      <td>2246.0</td>\n",
       "      <td>60.0</td>\n",
       "      <td>30.0</td>\n",
       "    </tr>\n",
       "    <tr>\n",
       "      <th>48523</th>\n",
       "      <td>6623-8503</td>\n",
       "      <td>complete</td>\n",
       "      <td>https://lpl.qq.com/es/stats.shtml?bmid=6623</td>\n",
       "      <td>LPL</td>\n",
       "      <td>2020</td>\n",
       "      <td>Summer</td>\n",
       "      <td>0</td>\n",
       "      <td>2020-07-23 12:56</td>\n",
       "      <td>3</td>\n",
       "      <td>10.14</td>\n",
       "      <td>...</td>\n",
       "      <td>NaN</td>\n",
       "      <td>NaN</td>\n",
       "      <td>NaN</td>\n",
       "      <td>NaN</td>\n",
       "      <td>NaN</td>\n",
       "      <td>NaN</td>\n",
       "      <td>NaN</td>\n",
       "      <td>NaN</td>\n",
       "      <td>NaN</td>\n",
       "      <td>NaN</td>\n",
       "    </tr>\n",
       "    <tr>\n",
       "      <th>48524</th>\n",
       "      <td>6623-8503</td>\n",
       "      <td>complete</td>\n",
       "      <td>https://lpl.qq.com/es/stats.shtml?bmid=6623</td>\n",
       "      <td>LPL</td>\n",
       "      <td>2020</td>\n",
       "      <td>Summer</td>\n",
       "      <td>0</td>\n",
       "      <td>2020-07-23 12:56</td>\n",
       "      <td>3</td>\n",
       "      <td>10.14</td>\n",
       "      <td>...</td>\n",
       "      <td>NaN</td>\n",
       "      <td>NaN</td>\n",
       "      <td>NaN</td>\n",
       "      <td>NaN</td>\n",
       "      <td>NaN</td>\n",
       "      <td>NaN</td>\n",
       "      <td>NaN</td>\n",
       "      <td>NaN</td>\n",
       "      <td>NaN</td>\n",
       "      <td>NaN</td>\n",
       "    </tr>\n",
       "  </tbody>\n",
       "</table>\n",
       "<p>2626 rows × 103 columns</p>\n",
       "</div>"
      ],
      "text/plain": [
       "                      gameid datacompleteness  \\\n",
       "130                5655-7249         complete   \n",
       "131                5655-7249         complete   \n",
       "142                5655-7250         complete   \n",
       "143                5655-7250         complete   \n",
       "154                5656-7252         complete   \n",
       "...                      ...              ...   \n",
       "48500  ESPORTSTMNT01/1433946         complete   \n",
       "48511  ESPORTSTMNT01/1433997         complete   \n",
       "48512  ESPORTSTMNT01/1433997         complete   \n",
       "48523              6623-8503         complete   \n",
       "48524              6623-8503         complete   \n",
       "\n",
       "                                                     url league  year   split  \\\n",
       "130          https://lpl.qq.com/es/stats.shtml?bmid=5655    LPL  2020  Spring   \n",
       "131          https://lpl.qq.com/es/stats.shtml?bmid=5655    LPL  2020  Spring   \n",
       "142          https://lpl.qq.com/es/stats.shtml?bmid=5655    LPL  2020  Spring   \n",
       "143          https://lpl.qq.com/es/stats.shtml?bmid=5655    LPL  2020  Spring   \n",
       "154          https://lpl.qq.com/es/stats.shtml?bmid=5656    LPL  2020  Spring   \n",
       "...                                                  ...    ...   ...     ...   \n",
       "48500  http://matchhistory.na.leagueoflegends.com/en/...    LCK  2020  Summer   \n",
       "48511  http://matchhistory.na.leagueoflegends.com/en/...    LCK  2020  Summer   \n",
       "48512  http://matchhistory.na.leagueoflegends.com/en/...    LCK  2020  Summer   \n",
       "48523        https://lpl.qq.com/es/stats.shtml?bmid=6623    LPL  2020  Summer   \n",
       "48524        https://lpl.qq.com/es/stats.shtml?bmid=6623    LPL  2020  Summer   \n",
       "\n",
       "       playoffs              date  game  patch  ...  csdiffat10 goldat15  \\\n",
       "130           0   2020-01-13 9:22     1  10.10  ...         5.0  24015.0   \n",
       "131           0   2020-01-13 9:22     1  10.10  ...        -5.0  24974.0   \n",
       "142           0  2020-01-13 10:37     2  10.10  ...        21.0  23764.0   \n",
       "143           0  2020-01-13 10:37     2  10.10  ...       -21.0  25271.0   \n",
       "154           0  2020-01-13 11:26     1  10.10  ...         1.0  24351.0   \n",
       "...         ...               ...   ...    ...  ...         ...      ...   \n",
       "48500         0  2020-07-23 10:47     1  10.14  ...       -15.0  23207.0   \n",
       "48511         0  2020-07-23 12:27     2  10.14  ...       -15.0  23190.0   \n",
       "48512         0  2020-07-23 12:27     2  10.14  ...        15.0  25436.0   \n",
       "48523         0  2020-07-23 12:56     3  10.14  ...         NaN      NaN   \n",
       "48524         0  2020-07-23 12:56     3  10.14  ...         NaN      NaN   \n",
       "\n",
       "        xpat15 csat15 opp_goldat15 opp_xpat15 opp_csat15 golddiffat15  \\\n",
       "130    27080.0  476.0      24974.0    28055.0      482.0       -959.0   \n",
       "131    28055.0  482.0      24015.0    27080.0      476.0        959.0   \n",
       "142    27637.0  476.0      25271.0    29495.0      450.0      -1507.0   \n",
       "143    29495.0  450.0      23764.0    27637.0      476.0       1507.0   \n",
       "154    28922.0  474.0      22340.0    26722.0      476.0       2011.0   \n",
       "...        ...    ...          ...        ...        ...          ...   \n",
       "48500  30435.0  542.0      24386.0    30739.0      580.0      -1179.0   \n",
       "48511  27508.0  443.0      25436.0    27568.0      473.0      -2246.0   \n",
       "48512  27568.0  473.0      23190.0    27508.0      443.0       2246.0   \n",
       "48523      NaN    NaN          NaN        NaN        NaN          NaN   \n",
       "48524      NaN    NaN          NaN        NaN        NaN          NaN   \n",
       "\n",
       "      xpdiffat15 csdiffat15  \n",
       "130       -975.0       -6.0  \n",
       "131        975.0        6.0  \n",
       "142      -1858.0       26.0  \n",
       "143       1858.0      -26.0  \n",
       "154       2200.0       -2.0  \n",
       "...          ...        ...  \n",
       "48500     -304.0      -38.0  \n",
       "48511      -60.0      -30.0  \n",
       "48512       60.0       30.0  \n",
       "48523        NaN        NaN  \n",
       "48524        NaN        NaN  \n",
       "\n",
       "[2626 rows x 103 columns]"
      ]
     },
     "execution_count": 44,
     "metadata": {},
     "output_type": "execute_result"
    }
   ],
   "source": [
    "matchteam = matchbig[(matchbig['position'] == \"team\")]\n",
    "matchteam = matchteam[(matchteam['league'] == \"LCS\")|(matchteam['league'] == \"LPL\")|(matchteam['league'] == \"LCK\")|(matchteam['league'] == \"LEC\")]\n",
    "matchteam"
   ]
  },
  {
   "cell_type": "code",
   "execution_count": 45,
   "metadata": {},
   "outputs": [
    {
     "data": {
      "text/html": [
       "<div>\n",
       "<style scoped>\n",
       "    .dataframe tbody tr th:only-of-type {\n",
       "        vertical-align: middle;\n",
       "    }\n",
       "\n",
       "    .dataframe tbody tr th {\n",
       "        vertical-align: top;\n",
       "    }\n",
       "\n",
       "    .dataframe thead th {\n",
       "        text-align: right;\n",
       "    }\n",
       "</style>\n",
       "<table border=\"1\" class=\"dataframe\">\n",
       "  <thead>\n",
       "    <tr style=\"text-align: right;\">\n",
       "      <th></th>\n",
       "      <th>Champion</th>\n",
       "      <th>Winrate</th>\n",
       "      <th>Pickrate</th>\n",
       "      <th>Banrate</th>\n",
       "    </tr>\n",
       "  </thead>\n",
       "  <tbody>\n",
       "    <tr>\n",
       "      <th>0</th>\n",
       "      <td>Aatrox</td>\n",
       "      <td>0.468828</td>\n",
       "      <td>0.305407</td>\n",
       "      <td>0.125666</td>\n",
       "    </tr>\n",
       "    <tr>\n",
       "      <th>107</th>\n",
       "      <td>Ahri</td>\n",
       "      <td>0.000000</td>\n",
       "      <td>0.001523</td>\n",
       "      <td>0.000762</td>\n",
       "    </tr>\n",
       "    <tr>\n",
       "      <th>42</th>\n",
       "      <td>Akali</td>\n",
       "      <td>0.520000</td>\n",
       "      <td>0.038081</td>\n",
       "      <td>0.122620</td>\n",
       "    </tr>\n",
       "    <tr>\n",
       "      <th>71</th>\n",
       "      <td>Alistar</td>\n",
       "      <td>0.562500</td>\n",
       "      <td>0.024372</td>\n",
       "      <td>0.003046</td>\n",
       "    </tr>\n",
       "    <tr>\n",
       "      <th>104</th>\n",
       "      <td>Anivia</td>\n",
       "      <td>0.000000</td>\n",
       "      <td>0.001523</td>\n",
       "      <td>0.000000</td>\n",
       "    </tr>\n",
       "    <tr>\n",
       "      <th>...</th>\n",
       "      <td>...</td>\n",
       "      <td>...</td>\n",
       "      <td>...</td>\n",
       "      <td>...</td>\n",
       "    </tr>\n",
       "    <tr>\n",
       "      <th>120</th>\n",
       "      <td>Zed</td>\n",
       "      <td>0.500000</td>\n",
       "      <td>0.001523</td>\n",
       "      <td>0.000000</td>\n",
       "    </tr>\n",
       "    <tr>\n",
       "      <th>79</th>\n",
       "      <td>Ziggs</td>\n",
       "      <td>0.388889</td>\n",
       "      <td>0.013709</td>\n",
       "      <td>0.004570</td>\n",
       "    </tr>\n",
       "    <tr>\n",
       "      <th>50</th>\n",
       "      <td>Zilean</td>\n",
       "      <td>0.516129</td>\n",
       "      <td>0.023610</td>\n",
       "      <td>0.028941</td>\n",
       "    </tr>\n",
       "    <tr>\n",
       "      <th>21</th>\n",
       "      <td>Zoe</td>\n",
       "      <td>0.496753</td>\n",
       "      <td>0.234577</td>\n",
       "      <td>0.307692</td>\n",
       "    </tr>\n",
       "    <tr>\n",
       "      <th>132</th>\n",
       "      <td>Zyra</td>\n",
       "      <td>0.000000</td>\n",
       "      <td>0.001523</td>\n",
       "      <td>0.000762</td>\n",
       "    </tr>\n",
       "  </tbody>\n",
       "</table>\n",
       "<p>134 rows × 4 columns</p>\n",
       "</div>"
      ],
      "text/plain": [
       "    Champion   Winrate  Pickrate   Banrate\n",
       "0     Aatrox  0.468828  0.305407  0.125666\n",
       "107     Ahri  0.000000  0.001523  0.000762\n",
       "42     Akali  0.520000  0.038081  0.122620\n",
       "71   Alistar  0.562500  0.024372  0.003046\n",
       "104   Anivia  0.000000  0.001523  0.000000\n",
       "..       ...       ...       ...       ...\n",
       "120      Zed  0.500000  0.001523  0.000000\n",
       "79     Ziggs  0.388889  0.013709  0.004570\n",
       "50    Zilean  0.516129  0.023610  0.028941\n",
       "21       Zoe  0.496753  0.234577  0.307692\n",
       "132     Zyra  0.000000  0.001523  0.000762\n",
       "\n",
       "[134 rows x 4 columns]"
      ]
     },
     "execution_count": 45,
     "metadata": {},
     "output_type": "execute_result"
    }
   ],
   "source": [
    "ListofChampions = match_champ[\"champion\"].unique()\n",
    "ListofChampionspd = pd.DataFrame(ListofChampions, columns=['Champion'])\n",
    "ListofChampionspd.sort_values(by = 'Champion')\n",
    "\n",
    "ListofChampionspd['Winrate'] = ListofChampionspd['Champion'].apply(lambda x: WinrateByChamp(match_champ,x))\n",
    "ListofChampionspd['Pickrate'] = ListofChampionspd['Champion'].apply(lambda x: PickrateByChamp(match_champ,x))\n",
    "ListofChampionspd['Banrate'] = ListofChampionspd['Champion'].apply(lambda x: BanrateByChamp(matchteam,x))\n",
    "ListofChampionspd.sort_values(by='Champion')"
   ]
  },
  {
   "cell_type": "code",
   "execution_count": 46,
   "metadata": {},
   "outputs": [
    {
     "ename": "AttributeError",
     "evalue": "'FacetGrid' object has no attribute 'update_layout'",
     "output_type": "error",
     "traceback": [
      "\u001b[1;31m---------------------------------------------------------------------------\u001b[0m",
      "\u001b[1;31mAttributeError\u001b[0m                            Traceback (most recent call last)",
      "\u001b[1;32m<ipython-input-46-e189d8bea69b>\u001b[0m in \u001b[0;36m<module>\u001b[1;34m\u001b[0m\n\u001b[0;32m      1\u001b[0m \u001b[0mfig\u001b[0m \u001b[1;33m=\u001b[0m \u001b[0msb\u001b[0m\u001b[1;33m.\u001b[0m\u001b[0mrelplot\u001b[0m\u001b[1;33m(\u001b[0m\u001b[0mdata\u001b[0m\u001b[1;33m=\u001b[0m\u001b[0mListofChampionspd\u001b[0m\u001b[1;33m,\u001b[0m \u001b[0mx\u001b[0m\u001b[1;33m=\u001b[0m\u001b[1;34m'Banrate'\u001b[0m\u001b[1;33m,\u001b[0m\u001b[0my\u001b[0m\u001b[1;33m=\u001b[0m\u001b[1;34m'Winrate'\u001b[0m\u001b[1;33m,\u001b[0m\u001b[0msize\u001b[0m\u001b[1;33m=\u001b[0m\u001b[1;34m'Pickrate'\u001b[0m\u001b[1;33m,\u001b[0m\u001b[0mhue\u001b[0m\u001b[1;33m=\u001b[0m\u001b[1;34m'Champion'\u001b[0m\u001b[1;33m)\u001b[0m\u001b[1;33m\u001b[0m\u001b[1;33m\u001b[0m\u001b[0m\n\u001b[1;32m----> 2\u001b[1;33m \u001b[0mfig\u001b[0m\u001b[1;33m.\u001b[0m\u001b[0mupdate_layout\u001b[0m\u001b[1;33m(\u001b[0m\u001b[0mtitle\u001b[0m\u001b[1;33m=\u001b[0m\u001b[1;34m\"Winrate vs Banrate\"\u001b[0m\u001b[1;33m)\u001b[0m\u001b[1;33m\u001b[0m\u001b[1;33m\u001b[0m\u001b[0m\n\u001b[0m\u001b[0;32m      3\u001b[0m \u001b[0mfig\u001b[0m\u001b[1;33m.\u001b[0m\u001b[0mshow\u001b[0m\u001b[1;33m(\u001b[0m\u001b[1;33m)\u001b[0m\u001b[1;33m\u001b[0m\u001b[1;33m\u001b[0m\u001b[0m\n",
      "\u001b[1;31mAttributeError\u001b[0m: 'FacetGrid' object has no attribute 'update_layout'"
     ]
    },
    {
     "data": {
      "image/png": "[encoded data removed]",
      "text/plain": [
       "<Figure size 464.5x360 with 1 Axes>"
      ]
     },
     "metadata": {
      "needs_background": "light"
     },
     "output_type": "display_data"
    }
   ],
   "source": [
    "fig = sb.relplot(data=ListofChampionspd, x='Banrate',y='Winrate',size='Pickrate',hue='Champion')\n",
    "fig.update_layout(title=\"Winrate vs Banrate\")\n",
    "fig.show()"
   ]
  },
  {
   "cell_type": "code",
   "execution_count": 47,
   "metadata": {},
   "outputs": [
    {
     "ename": "NameError",
     "evalue": "name 'pbrole' is not defined",
     "output_type": "error",
     "traceback": [
      "\u001b[1;31m---------------------------------------------------------------------------\u001b[0m",
      "\u001b[1;31mNameError\u001b[0m                                 Traceback (most recent call last)",
      "\u001b[1;32m<ipython-input-47-6b4e7ccacf66>\u001b[0m in \u001b[0;36m<module>\u001b[1;34m\u001b[0m\n\u001b[1;32m----> 1\u001b[1;33m \u001b[0mpbrole\u001b[0m\u001b[1;33m.\u001b[0m\u001b[0mhead\u001b[0m\u001b[1;33m(\u001b[0m\u001b[1;33m)\u001b[0m\u001b[1;33m\u001b[0m\u001b[1;33m\u001b[0m\u001b[0m\n\u001b[0m",
      "\u001b[1;31mNameError\u001b[0m: name 'pbrole' is not defined"
     ]
    }
   ],
   "source": [
    "pbrole.head()"
   ]
  },
  {
   "cell_type": "code",
   "execution_count": 25,
   "metadata": {},
   "outputs": [],
   "source": [
    "pbrole = pbrole.replace(\"AD Carry\", \"Bot\")"
   ]
  },
  {
   "cell_type": "code",
   "execution_count": null,
   "metadata": {},
   "outputs": [],
   "source": [
    "pbrole"
   ]
  },
  {
   "cell_type": "code",
   "execution_count": null,
   "metadata": {},
   "outputs": [],
   "source": [
    "pbrole2 = pbrole"
   ]
  },
  {
   "cell_type": "code",
   "execution_count": null,
   "metadata": {},
   "outputs": [],
   "source": []
  },
  {
   "cell_type": "code",
   "execution_count": null,
   "metadata": {},
   "outputs": [],
   "source": [
    "pbrole"
   ]
  },
  {
   "cell_type": "code",
   "execution_count": 26,
   "metadata": {},
   "outputs": [],
   "source": [
    "from sklearn.ensemble import RandomForestClassifier\n",
    "from sklearn.svm import SVC\n",
    "from sklearn import svm\n",
    "from sklearn.neural_network import MLPClassifier\n",
    "from sklearn.metrics import confusion_matrix, classification_report\n",
    "from sklearn.preprocessing import StandardScaler,LabelEncoder\n",
    "from sklearn.model_selection import train_test_split\n",
    "from sklearn import metrics"
   ]
  },
  {
   "cell_type": "markdown",
   "metadata": {},
   "source": [
    "0 = Bot\n",
    "1 = Jungle\n",
    "2 = Mid\n",
    "3 = Support\n",
    "4 = Top"
   ]
  },
  {
   "cell_type": "code",
   "execution_count": null,
   "metadata": {},
   "outputs": [],
   "source": [
    "le = LabelEncoder()\n",
    "pbrole['BR1'] = le.fit_transform(pbrole['BR1'])\n"
   ]
  },
  {
   "cell_type": "code",
   "execution_count": null,
   "metadata": {},
   "outputs": [],
   "source": [
    "pbrole['Result'] = pbrole['Result'].replace(\"Red\",0)"
   ]
  },
  {
   "cell_type": "code",
   "execution_count": null,
   "metadata": {},
   "outputs": [],
   "source": [
    "pbrole.head()"
   ]
  },
  {
   "cell_type": "code",
   "execution_count": null,
   "metadata": {},
   "outputs": [],
   "source": [
    "X = pbrole.drop('Result', axis = 1)\n",
    "Y = pbrole['Result']"
   ]
  },
  {
   "cell_type": "code",
   "execution_count": null,
   "metadata": {},
   "outputs": [],
   "source": [
    "#split data\n",
    "X_train, X_test, Y_train, Y_test = train_test_split(X,Y,test_size= 0.2,random_state=42)"
   ]
  },
  {
   "cell_type": "markdown",
   "metadata": {},
   "source": [
    "# Pick Order Analysis"
   ]
  },
  {
   "cell_type": "code",
   "execution_count": 34,
   "metadata": {},
   "outputs": [],
   "source": [
    "pbrole = pbrole.replace('Bot Laner', 'Bot')\n",
    "pbrole = pbrole.replace('Jungler','Jungle')\n",
    "pbrole = pbrole.replace('Mid Laner','Mid')\n",
    "pbrole = pbrole.replace('Top Laner','Top')"
   ]
  },
  {
   "cell_type": "code",
   "execution_count": 20,
   "metadata": {},
   "outputs": [],
   "source": [
    "pbrole['Result'] = pbrole['Result'].replace(\"Red\",0)\n",
    "pbrole['Result'] = pbrole['Result'].replace(\"Blue\",1)"
   ]
  },
  {
   "cell_type": "code",
   "execution_count": 21,
   "metadata": {
    "collapsed": true,
    "jupyter": {
     "outputs_hidden": true
    }
   },
   "outputs": [
    {
     "data": {
      "text/plain": [
       "RR5\n",
       "Bot        0.028253\n",
       "Jungle    -0.049041\n",
       "Mid        0.008114\n",
       "Support   -0.017687\n",
       "Top        0.005883\n",
       "Name: Result, dtype: float64"
      ]
     },
     "execution_count": 21,
     "metadata": {},
     "output_type": "execute_result"
    }
   ],
   "source": [
    "pbrole.groupby('RR5')['Result'].mean()-pbrole['Result'].mean()"
   ]
  },
  {
   "cell_type": "code",
   "execution_count": 41,
   "metadata": {
    "collapsed": true,
    "jupyter": {
     "outputs_hidden": true
    }
   },
   "outputs": [
    {
     "data": {
      "text/plain": [
       "RR1      RR2      RR3    \n",
       "Jungle   Top      Mid        1.000000\n",
       "Mid      Bot      Top        1.000000\n",
       "Support  Jungle   Top        1.000000\n",
       "         Top      Mid        1.000000\n",
       "Top      Mid      Support    1.000000\n",
       "Mid      Support  Bot        0.750000\n",
       "Support  Mid      Bot        0.750000\n",
       "Jungle   Top      Bot        0.642857\n",
       "Bot      Top      Jungle     0.595238\n",
       "Jungle   Bot      Top        0.583333\n",
       "Name: Result, dtype: float64"
      ]
     },
     "execution_count": 41,
     "metadata": {},
     "output_type": "execute_result"
    }
   ],
   "source": [
    "pbrole.groupby(['RR1','RR2','RR3'])['Result'].mean().nlargest(10)"
   ]
  },
  {
   "cell_type": "code",
   "execution_count": 22,
   "metadata": {
    "collapsed": true,
    "jupyter": {
     "outputs_hidden": true
    }
   },
   "outputs": [
    {
     "data": {
      "text/html": [
       "<div>\n",
       "<style scoped>\n",
       "    .dataframe tbody tr th:only-of-type {\n",
       "        vertical-align: middle;\n",
       "    }\n",
       "\n",
       "    .dataframe tbody tr th {\n",
       "        vertical-align: top;\n",
       "    }\n",
       "\n",
       "    .dataframe thead th {\n",
       "        text-align: right;\n",
       "    }\n",
       "</style>\n",
       "<table border=\"1\" class=\"dataframe\">\n",
       "  <thead>\n",
       "    <tr style=\"text-align: right;\">\n",
       "      <th></th>\n",
       "      <th>Phase</th>\n",
       "      <th>Blue</th>\n",
       "      <th>Red</th>\n",
       "      <th>Score</th>\n",
       "      <th>Result</th>\n",
       "      <th>Patch</th>\n",
       "      <th>BB1</th>\n",
       "      <th>RB1</th>\n",
       "      <th>BB2</th>\n",
       "      <th>RB2</th>\n",
       "      <th>...</th>\n",
       "      <th>BR2</th>\n",
       "      <th>BR3</th>\n",
       "      <th>BR4</th>\n",
       "      <th>BR5</th>\n",
       "      <th>RR1</th>\n",
       "      <th>RR2</th>\n",
       "      <th>RR3</th>\n",
       "      <th>RR4</th>\n",
       "      <th>RR5</th>\n",
       "      <th>League</th>\n",
       "    </tr>\n",
       "  </thead>\n",
       "  <tbody>\n",
       "    <tr>\n",
       "      <th>0</th>\n",
       "      <td>Week 1</td>\n",
       "      <td>Afreeca Freecs</td>\n",
       "      <td>Hanwha Life Esports</td>\n",
       "      <td>2 - 1</td>\n",
       "      <td>Blue</td>\n",
       "      <td>10.2</td>\n",
       "      <td>Yuumi</td>\n",
       "      <td>Akali</td>\n",
       "      <td>Jarvan IV</td>\n",
       "      <td>Lucian</td>\n",
       "      <td>...</td>\n",
       "      <td>Jungle</td>\n",
       "      <td>Mid</td>\n",
       "      <td>Support</td>\n",
       "      <td>Top</td>\n",
       "      <td>Jungle</td>\n",
       "      <td>Bot</td>\n",
       "      <td>Support</td>\n",
       "      <td>Mid</td>\n",
       "      <td>Top</td>\n",
       "      <td>LCK</td>\n",
       "    </tr>\n",
       "    <tr>\n",
       "      <th>1</th>\n",
       "      <td>Week 1</td>\n",
       "      <td>Hanwha Life Esports</td>\n",
       "      <td>Afreeca Freecs</td>\n",
       "      <td>1 - 1</td>\n",
       "      <td>Red</td>\n",
       "      <td>10.2</td>\n",
       "      <td>Lucian</td>\n",
       "      <td>Yuumi</td>\n",
       "      <td>Jarvan IV</td>\n",
       "      <td>Taliyah</td>\n",
       "      <td>...</td>\n",
       "      <td>Bot</td>\n",
       "      <td>Top</td>\n",
       "      <td>Jungle</td>\n",
       "      <td>Support</td>\n",
       "      <td>Mid</td>\n",
       "      <td>Bot</td>\n",
       "      <td>Jungle</td>\n",
       "      <td>Top</td>\n",
       "      <td>Support</td>\n",
       "      <td>LCK</td>\n",
       "    </tr>\n",
       "    <tr>\n",
       "      <th>2</th>\n",
       "      <td>Week 1</td>\n",
       "      <td>Afreeca Freecs</td>\n",
       "      <td>Hanwha Life Esports</td>\n",
       "      <td>0 - 1</td>\n",
       "      <td>Red</td>\n",
       "      <td>10.2</td>\n",
       "      <td>Diana</td>\n",
       "      <td>Akali</td>\n",
       "      <td>Yuumi</td>\n",
       "      <td>Lucian</td>\n",
       "      <td>...</td>\n",
       "      <td>Mid</td>\n",
       "      <td>Bot</td>\n",
       "      <td>Support</td>\n",
       "      <td>Top</td>\n",
       "      <td>Mid</td>\n",
       "      <td>Bot</td>\n",
       "      <td>Jungle</td>\n",
       "      <td>Top</td>\n",
       "      <td>Support</td>\n",
       "      <td>LCK</td>\n",
       "    </tr>\n",
       "    <tr>\n",
       "      <th>3</th>\n",
       "      <td>Week 1</td>\n",
       "      <td>SANDBOX Gaming</td>\n",
       "      <td>DragonX</td>\n",
       "      <td>1 - 2</td>\n",
       "      <td>Red</td>\n",
       "      <td>10.2</td>\n",
       "      <td>Irelia</td>\n",
       "      <td>Lucian</td>\n",
       "      <td>Ornn</td>\n",
       "      <td>Akali</td>\n",
       "      <td>...</td>\n",
       "      <td>Bot</td>\n",
       "      <td>Jungle</td>\n",
       "      <td>Mid</td>\n",
       "      <td>Top</td>\n",
       "      <td>Bot</td>\n",
       "      <td>Jungle</td>\n",
       "      <td>Top</td>\n",
       "      <td>Support</td>\n",
       "      <td>Mid</td>\n",
       "      <td>LCK</td>\n",
       "    </tr>\n",
       "    <tr>\n",
       "      <th>4</th>\n",
       "      <td>Week 1</td>\n",
       "      <td>DragonX</td>\n",
       "      <td>SANDBOX Gaming</td>\n",
       "      <td>1 - 1</td>\n",
       "      <td>Blue</td>\n",
       "      <td>10.2</td>\n",
       "      <td>Elise</td>\n",
       "      <td>Akali</td>\n",
       "      <td>Olaf</td>\n",
       "      <td>Sett</td>\n",
       "      <td>...</td>\n",
       "      <td>Jungle</td>\n",
       "      <td>Bot</td>\n",
       "      <td>Top</td>\n",
       "      <td>Support</td>\n",
       "      <td>Bot</td>\n",
       "      <td>Jungle</td>\n",
       "      <td>Mid</td>\n",
       "      <td>Top</td>\n",
       "      <td>Support</td>\n",
       "      <td>LCK</td>\n",
       "    </tr>\n",
       "  </tbody>\n",
       "</table>\n",
       "<p>5 rows × 37 columns</p>\n",
       "</div>"
      ],
      "text/plain": [
       "    Phase                 Blue                  Red  Score Result  Patch  \\\n",
       "0  Week 1       Afreeca Freecs  Hanwha Life Esports  2 - 1   Blue   10.2   \n",
       "1  Week 1  Hanwha Life Esports       Afreeca Freecs  1 - 1    Red   10.2   \n",
       "2  Week 1       Afreeca Freecs  Hanwha Life Esports  0 - 1    Red   10.2   \n",
       "3  Week 1       SANDBOX Gaming              DragonX  1 - 2    Red   10.2   \n",
       "4  Week 1              DragonX       SANDBOX Gaming  1 - 1   Blue   10.2   \n",
       "\n",
       "      BB1     RB1        BB2      RB2  ...     BR2     BR3      BR4      BR5  \\\n",
       "0   Yuumi   Akali  Jarvan IV   Lucian  ...  Jungle     Mid  Support      Top   \n",
       "1  Lucian   Yuumi  Jarvan IV  Taliyah  ...     Bot     Top   Jungle  Support   \n",
       "2   Diana   Akali      Yuumi   Lucian  ...     Mid     Bot  Support      Top   \n",
       "3  Irelia  Lucian       Ornn    Akali  ...     Bot  Jungle      Mid      Top   \n",
       "4   Elise   Akali       Olaf     Sett  ...  Jungle     Bot      Top  Support   \n",
       "\n",
       "      RR1     RR2      RR3      RR4      RR5 League  \n",
       "0  Jungle     Bot  Support      Mid      Top    LCK  \n",
       "1     Mid     Bot   Jungle      Top  Support    LCK  \n",
       "2     Mid     Bot   Jungle      Top  Support    LCK  \n",
       "3     Bot  Jungle      Top  Support      Mid    LCK  \n",
       "4     Bot  Jungle      Mid      Top  Support    LCK  \n",
       "\n",
       "[5 rows x 37 columns]"
      ]
     },
     "execution_count": 22,
     "metadata": {},
     "output_type": "execute_result"
    }
   ],
   "source": [
    "pb.head()"
   ]
  },
  {
   "cell_type": "code",
   "execution_count": 199,
   "metadata": {
    "collapsed": true,
    "jupyter": {
     "outputs_hidden": true
    }
   },
   "outputs": [
    {
     "data": {
      "text/plain": [
       "Patch  RR5    \n",
       "10.10  Bot          2\n",
       "       Jungle       2\n",
       "       Mid         26\n",
       "       Support      4\n",
       "       Top         21\n",
       "10.11  Bot          2\n",
       "       Jungle       4\n",
       "       Mid         42\n",
       "       Support     17\n",
       "       Top         47\n",
       "10.12  Jungle       7\n",
       "       Mid         48\n",
       "       Support     18\n",
       "       Top         82\n",
       "10.13  Jungle       6\n",
       "       Mid         33\n",
       "       Support     29\n",
       "       Top         82\n",
       "10.14  Jungle       4\n",
       "       Mid          6\n",
       "       Support     18\n",
       "       Top         49\n",
       "10.20  Bot          2\n",
       "       Jungle       1\n",
       "       Mid         43\n",
       "       Support     19\n",
       "       Top         26\n",
       "10.30  Jungle       9\n",
       "       Mid         46\n",
       "       Support     14\n",
       "       Top         21\n",
       "10.40  Bot          3\n",
       "       Jungle      10\n",
       "       Mid         56\n",
       "       Support     22\n",
       "       Top         28\n",
       "10.50  Bot          6\n",
       "       Jungle       9\n",
       "       Mid         68\n",
       "       Support     28\n",
       "       Top         34\n",
       "10.60  Bot          3\n",
       "       Jungle      17\n",
       "       Mid        104\n",
       "       Support     38\n",
       "       Top         58\n",
       "10.70  Mid          8\n",
       "       Support      1\n",
       "       Top          4\n",
       "Name: RR5, dtype: int64"
      ]
     },
     "execution_count": 199,
     "metadata": {},
     "output_type": "execute_result"
    }
   ],
   "source": [
    "pb.groupby([\"Patch\",\"RR5\"])['RR5'].count()"
   ]
  },
  {
   "cell_type": "code",
   "execution_count": 52,
   "metadata": {
    "collapsed": true,
    "jupyter": {
     "outputs_hidden": true
    }
   },
   "outputs": [
    {
     "data": {
      "application/vnd.plotly.v1+json": {
       "config": {
        "plotlyServerURL": "https://plot.ly"
       },
       "data": [
        {
         "alignmentgroup": "True",
         "hovertemplate": "RR5=Bot<br>Patch=%{x}<br>value=%{y}<extra></extra>",
         "legendgroup": "Bot",
         "marker": {
          "color": "#636efa"
         },
         "name": "Bot",
         "offsetgroup": "Bot",
         "orientation": "v",
         "showlegend": true,
         "textposition": "auto",
         "type": "bar",
         "x": [
          10.1,
          10.11,
          10.12,
          10.13,
          10.14,
          10.2,
          10.3,
          10.4,
          10.5,
          10.6,
          10.7
         ],
         "xaxis": "x",
         "y": [
          2,
          2,
          null,
          null,
          null,
          2,
          null,
          3,
          6,
          3,
          null
         ],
         "yaxis": "y"
        },
        {
         "alignmentgroup": "True",
         "hovertemplate": "RR5=Jungle<br>Patch=%{x}<br>value=%{y}<extra></extra>",
         "legendgroup": "Jungle",
         "marker": {
          "color": "#EF553B"
         },
         "name": "Jungle",
         "offsetgroup": "Jungle",
         "orientation": "v",
         "showlegend": true,
         "textposition": "auto",
         "type": "bar",
         "x": [
          10.1,
          10.11,
          10.12,
          10.13,
          10.14,
          10.2,
          10.3,
          10.4,
          10.5,
          10.6,
          10.7
         ],
         "xaxis": "x",
         "y": [
          2,
          4,
          7,
          6,
          4,
          1,
          9,
          10,
          9,
          17,
          null
         ],
         "yaxis": "y"
        },
        {
         "alignmentgroup": "True",
         "hovertemplate": "RR5=Mid<br>Patch=%{x}<br>value=%{y}<extra></extra>",
         "legendgroup": "Mid",
         "marker": {
          "color": "#00cc96"
         },
         "name": "Mid",
         "offsetgroup": "Mid",
         "orientation": "v",
         "showlegend": true,
         "textposition": "auto",
         "type": "bar",
         "x": [
          10.1,
          10.11,
          10.12,
          10.13,
          10.14,
          10.2,
          10.3,
          10.4,
          10.5,
          10.6,
          10.7
         ],
         "xaxis": "x",
         "y": [
          26,
          42,
          48,
          33,
          6,
          43,
          46,
          56,
          68,
          104,
          8
         ],
         "yaxis": "y"
        },
        {
         "alignmentgroup": "True",
         "hovertemplate": "RR5=Support<br>Patch=%{x}<br>value=%{y}<extra></extra>",
         "legendgroup": "Support",
         "marker": {
          "color": "#ab63fa"
         },
         "name": "Support",
         "offsetgroup": "Support",
         "orientation": "v",
         "showlegend": true,
         "textposition": "auto",
         "type": "bar",
         "x": [
          10.1,
          10.11,
          10.12,
          10.13,
          10.14,
          10.2,
          10.3,
          10.4,
          10.5,
          10.6,
          10.7
         ],
         "xaxis": "x",
         "y": [
          4,
          17,
          18,
          29,
          18,
          19,
          14,
          22,
          28,
          38,
          1
         ],
         "yaxis": "y"
        },
        {
         "alignmentgroup": "True",
         "hovertemplate": "RR5=Top<br>Patch=%{x}<br>value=%{y}<extra></extra>",
         "legendgroup": "Top",
         "marker": {
          "color": "#FFA15A"
         },
         "name": "Top",
         "offsetgroup": "Top",
         "orientation": "v",
         "showlegend": true,
         "textposition": "auto",
         "type": "bar",
         "x": [
          10.1,
          10.11,
          10.12,
          10.13,
          10.14,
          10.2,
          10.3,
          10.4,
          10.5,
          10.6,
          10.7
         ],
         "xaxis": "x",
         "y": [
          21,
          47,
          82,
          82,
          49,
          26,
          21,
          28,
          34,
          58,
          4
         ],
         "yaxis": "y"
        }
       ],
       "layout": {
        "barmode": "group",
        "legend": {
         "title": {
          "text": "RR5"
         },
         "tracegroupgap": 0
        },
        "margin": {
         "t": 60
        },
        "template": {
         "data": {
          "bar": [
           {
            "error_x": {
             "color": "#2a3f5f"
            },
            "error_y": {
             "color": "#2a3f5f"
            },
            "marker": {
             "line": {
              "color": "#E5ECF6",
              "width": 0.5
             }
            },
            "type": "bar"
           }
          ],
          "barpolar": [
           {
            "marker": {
             "line": {
              "color": "#E5ECF6",
              "width": 0.5
             }
            },
            "type": "barpolar"
           }
          ],
          "carpet": [
           {
            "aaxis": {
             "endlinecolor": "#2a3f5f",
             "gridcolor": "white",
             "linecolor": "white",
             "minorgridcolor": "white",
             "startlinecolor": "#2a3f5f"
            },
            "baxis": {
             "endlinecolor": "#2a3f5f",
             "gridcolor": "white",
             "linecolor": "white",
             "minorgridcolor": "white",
             "startlinecolor": "#2a3f5f"
            },
            "type": "carpet"
           }
          ],
          "choropleth": [
           {
            "colorbar": {
             "outlinewidth": 0,
             "ticks": ""
            },
            "type": "choropleth"
           }
          ],
          "contour": [
           {
            "colorbar": {
             "outlinewidth": 0,
             "ticks": ""
            },
            "colorscale": [
             [
              0,
              "#0d0887"
             ],
             [
              0.1111111111111111,
              "#46039f"
             ],
             [
              0.2222222222222222,
              "#7201a8"
             ],
             [
              0.3333333333333333,
              "#9c179e"
             ],
             [
              0.4444444444444444,
              "#bd3786"
             ],
             [
              0.5555555555555556,
              "#d8576b"
             ],
             [
              0.6666666666666666,
              "#ed7953"
             ],
             [
              0.7777777777777778,
              "#fb9f3a"
             ],
             [
              0.8888888888888888,
              "#fdca26"
             ],
             [
              1,
              "#f0f921"
             ]
            ],
            "type": "contour"
           }
          ],
          "contourcarpet": [
           {
            "colorbar": {
             "outlinewidth": 0,
             "ticks": ""
            },
            "type": "contourcarpet"
           }
          ],
          "heatmap": [
           {
            "colorbar": {
             "outlinewidth": 0,
             "ticks": ""
            },
            "colorscale": [
             [
              0,
              "#0d0887"
             ],
             [
              0.1111111111111111,
              "#46039f"
             ],
             [
              0.2222222222222222,
              "#7201a8"
             ],
             [
              0.3333333333333333,
              "#9c179e"
             ],
             [
              0.4444444444444444,
              "#bd3786"
             ],
             [
              0.5555555555555556,
              "#d8576b"
             ],
             [
              0.6666666666666666,
              "#ed7953"
             ],
             [
              0.7777777777777778,
              "#fb9f3a"
             ],
             [
              0.8888888888888888,
              "#fdca26"
             ],
             [
              1,
              "#f0f921"
             ]
            ],
            "type": "heatmap"
           }
          ],
          "heatmapgl": [
           {
            "colorbar": {
             "outlinewidth": 0,
             "ticks": ""
            },
            "colorscale": [
             [
              0,
              "#0d0887"
             ],
             [
              0.1111111111111111,
              "#46039f"
             ],
             [
              0.2222222222222222,
              "#7201a8"
             ],
             [
              0.3333333333333333,
              "#9c179e"
             ],
             [
              0.4444444444444444,
              "#bd3786"
             ],
             [
              0.5555555555555556,
              "#d8576b"
             ],
             [
              0.6666666666666666,
              "#ed7953"
             ],
             [
              0.7777777777777778,
              "#fb9f3a"
             ],
             [
              0.8888888888888888,
              "#fdca26"
             ],
             [
              1,
              "#f0f921"
             ]
            ],
            "type": "heatmapgl"
           }
          ],
          "histogram": [
           {
            "marker": {
             "colorbar": {
              "outlinewidth": 0,
              "ticks": ""
             }
            },
            "type": "histogram"
           }
          ],
          "histogram2d": [
           {
            "colorbar": {
             "outlinewidth": 0,
             "ticks": ""
            },
            "colorscale": [
             [
              0,
              "#0d0887"
             ],
             [
              0.1111111111111111,
              "#46039f"
             ],
             [
              0.2222222222222222,
              "#7201a8"
             ],
             [
              0.3333333333333333,
              "#9c179e"
             ],
             [
              0.4444444444444444,
              "#bd3786"
             ],
             [
              0.5555555555555556,
              "#d8576b"
             ],
             [
              0.6666666666666666,
              "#ed7953"
             ],
             [
              0.7777777777777778,
              "#fb9f3a"
             ],
             [
              0.8888888888888888,
              "#fdca26"
             ],
             [
              1,
              "#f0f921"
             ]
            ],
            "type": "histogram2d"
           }
          ],
          "histogram2dcontour": [
           {
            "colorbar": {
             "outlinewidth": 0,
             "ticks": ""
            },
            "colorscale": [
             [
              0,
              "#0d0887"
             ],
             [
              0.1111111111111111,
              "#46039f"
             ],
             [
              0.2222222222222222,
              "#7201a8"
             ],
             [
              0.3333333333333333,
              "#9c179e"
             ],
             [
              0.4444444444444444,
              "#bd3786"
             ],
             [
              0.5555555555555556,
              "#d8576b"
             ],
             [
              0.6666666666666666,
              "#ed7953"
             ],
             [
              0.7777777777777778,
              "#fb9f3a"
             ],
             [
              0.8888888888888888,
              "#fdca26"
             ],
             [
              1,
              "#f0f921"
             ]
            ],
            "type": "histogram2dcontour"
           }
          ],
          "mesh3d": [
           {
            "colorbar": {
             "outlinewidth": 0,
             "ticks": ""
            },
            "type": "mesh3d"
           }
          ],
          "parcoords": [
           {
            "line": {
             "colorbar": {
              "outlinewidth": 0,
              "ticks": ""
             }
            },
            "type": "parcoords"
           }
          ],
          "pie": [
           {
            "automargin": true,
            "type": "pie"
           }
          ],
          "scatter": [
           {
            "marker": {
             "colorbar": {
              "outlinewidth": 0,
              "ticks": ""
             }
            },
            "type": "scatter"
           }
          ],
          "scatter3d": [
           {
            "line": {
             "colorbar": {
              "outlinewidth": 0,
              "ticks": ""
             }
            },
            "marker": {
             "colorbar": {
              "outlinewidth": 0,
              "ticks": ""
             }
            },
            "type": "scatter3d"
           }
          ],
          "scattercarpet": [
           {
            "marker": {
             "colorbar": {
              "outlinewidth": 0,
              "ticks": ""
             }
            },
            "type": "scattercarpet"
           }
          ],
          "scattergeo": [
           {
            "marker": {
             "colorbar": {
              "outlinewidth": 0,
              "ticks": ""
             }
            },
            "type": "scattergeo"
           }
          ],
          "scattergl": [
           {
            "marker": {
             "colorbar": {
              "outlinewidth": 0,
              "ticks": ""
             }
            },
            "type": "scattergl"
           }
          ],
          "scattermapbox": [
           {
            "marker": {
             "colorbar": {
              "outlinewidth": 0,
              "ticks": ""
             }
            },
            "type": "scattermapbox"
           }
          ],
          "scatterpolar": [
           {
            "marker": {
             "colorbar": {
              "outlinewidth": 0,
              "ticks": ""
             }
            },
            "type": "scatterpolar"
           }
          ],
          "scatterpolargl": [
           {
            "marker": {
             "colorbar": {
              "outlinewidth": 0,
              "ticks": ""
             }
            },
            "type": "scatterpolargl"
           }
          ],
          "scatterternary": [
           {
            "marker": {
             "colorbar": {
              "outlinewidth": 0,
              "ticks": ""
             }
            },
            "type": "scatterternary"
           }
          ],
          "surface": [
           {
            "colorbar": {
             "outlinewidth": 0,
             "ticks": ""
            },
            "colorscale": [
             [
              0,
              "#0d0887"
             ],
             [
              0.1111111111111111,
              "#46039f"
             ],
             [
              0.2222222222222222,
              "#7201a8"
             ],
             [
              0.3333333333333333,
              "#9c179e"
             ],
             [
              0.4444444444444444,
              "#bd3786"
             ],
             [
              0.5555555555555556,
              "#d8576b"
             ],
             [
              0.6666666666666666,
              "#ed7953"
             ],
             [
              0.7777777777777778,
              "#fb9f3a"
             ],
             [
              0.8888888888888888,
              "#fdca26"
             ],
             [
              1,
              "#f0f921"
             ]
            ],
            "type": "surface"
           }
          ],
          "table": [
           {
            "cells": {
             "fill": {
              "color": "#EBF0F8"
             },
             "line": {
              "color": "white"
             }
            },
            "header": {
             "fill": {
              "color": "#C8D4E3"
             },
             "line": {
              "color": "white"
             }
            },
            "type": "table"
           }
          ]
         },
         "layout": {
          "annotationdefaults": {
           "arrowcolor": "#2a3f5f",
           "arrowhead": 0,
           "arrowwidth": 1
          },
          "coloraxis": {
           "colorbar": {
            "outlinewidth": 0,
            "ticks": ""
           }
          },
          "colorscale": {
           "diverging": [
            [
             0,
             "#8e0152"
            ],
            [
             0.1,
             "#c51b7d"
            ],
            [
             0.2,
             "#de77ae"
            ],
            [
             0.3,
             "#f1b6da"
            ],
            [
             0.4,
             "#fde0ef"
            ],
            [
             0.5,
             "#f7f7f7"
            ],
            [
             0.6,
             "#e6f5d0"
            ],
            [
             0.7,
             "#b8e186"
            ],
            [
             0.8,
             "#7fbc41"
            ],
            [
             0.9,
             "#4d9221"
            ],
            [
             1,
             "#276419"
            ]
           ],
           "sequential": [
            [
             0,
             "#0d0887"
            ],
            [
             0.1111111111111111,
             "#46039f"
            ],
            [
             0.2222222222222222,
             "#7201a8"
            ],
            [
             0.3333333333333333,
             "#9c179e"
            ],
            [
             0.4444444444444444,
             "#bd3786"
            ],
            [
             0.5555555555555556,
             "#d8576b"
            ],
            [
             0.6666666666666666,
             "#ed7953"
            ],
            [
             0.7777777777777778,
             "#fb9f3a"
            ],
            [
             0.8888888888888888,
             "#fdca26"
            ],
            [
             1,
             "#f0f921"
            ]
           ],
           "sequentialminus": [
            [
             0,
             "#0d0887"
            ],
            [
             0.1111111111111111,
             "#46039f"
            ],
            [
             0.2222222222222222,
             "#7201a8"
            ],
            [
             0.3333333333333333,
             "#9c179e"
            ],
            [
             0.4444444444444444,
             "#bd3786"
            ],
            [
             0.5555555555555556,
             "#d8576b"
            ],
            [
             0.6666666666666666,
             "#ed7953"
            ],
            [
             0.7777777777777778,
             "#fb9f3a"
            ],
            [
             0.8888888888888888,
             "#fdca26"
            ],
            [
             1,
             "#f0f921"
            ]
           ]
          },
          "colorway": [
           "#636efa",
           "#EF553B",
           "#00cc96",
           "#ab63fa",
           "#FFA15A",
           "#19d3f3",
           "#FF6692",
           "#B6E880",
           "#FF97FF",
           "#FECB52"
          ],
          "font": {
           "color": "#2a3f5f"
          },
          "geo": {
           "bgcolor": "white",
           "lakecolor": "white",
           "landcolor": "#E5ECF6",
           "showlakes": true,
           "showland": true,
           "subunitcolor": "white"
          },
          "hoverlabel": {
           "align": "left"
          },
          "hovermode": "closest",
          "mapbox": {
           "style": "light"
          },
          "paper_bgcolor": "white",
          "plot_bgcolor": "#E5ECF6",
          "polar": {
           "angularaxis": {
            "gridcolor": "white",
            "linecolor": "white",
            "ticks": ""
           },
           "bgcolor": "#E5ECF6",
           "radialaxis": {
            "gridcolor": "white",
            "linecolor": "white",
            "ticks": ""
           }
          },
          "scene": {
           "xaxis": {
            "backgroundcolor": "#E5ECF6",
            "gridcolor": "white",
            "gridwidth": 2,
            "linecolor": "white",
            "showbackground": true,
            "ticks": "",
            "zerolinecolor": "white"
           },
           "yaxis": {
            "backgroundcolor": "#E5ECF6",
            "gridcolor": "white",
            "gridwidth": 2,
            "linecolor": "white",
            "showbackground": true,
            "ticks": "",
            "zerolinecolor": "white"
           },
           "zaxis": {
            "backgroundcolor": "#E5ECF6",
            "gridcolor": "white",
            "gridwidth": 2,
            "linecolor": "white",
            "showbackground": true,
            "ticks": "",
            "zerolinecolor": "white"
           }
          },
          "shapedefaults": {
           "line": {
            "color": "#2a3f5f"
           }
          },
          "ternary": {
           "aaxis": {
            "gridcolor": "white",
            "linecolor": "white",
            "ticks": ""
           },
           "baxis": {
            "gridcolor": "white",
            "linecolor": "white",
            "ticks": ""
           },
           "bgcolor": "#E5ECF6",
           "caxis": {
            "gridcolor": "white",
            "linecolor": "white",
            "ticks": ""
           }
          },
          "title": {
           "x": 0.05
          },
          "xaxis": {
           "automargin": true,
           "gridcolor": "white",
           "linecolor": "white",
           "ticks": "",
           "title": {
            "standoff": 15
           },
           "zerolinecolor": "white",
           "zerolinewidth": 2
          },
          "yaxis": {
           "automargin": true,
           "gridcolor": "white",
           "linecolor": "white",
           "ticks": "",
           "title": {
            "standoff": 15
           },
           "zerolinecolor": "white",
           "zerolinewidth": 2
          }
         }
        },
        "xaxis": {
         "anchor": "y",
         "domain": [
          0,
          1
         ],
         "title": {
          "text": "Patch"
         }
        },
        "yaxis": {
         "anchor": "x",
         "domain": [
          0,
          1
         ],
         "title": {
          "text": "value"
         }
        }
       }
      },
      "text/html": [
       "<div>\n",
       "        \n",
       "        \n",
       "            <div id=\"d500f00f-02a2-4e3c-80c4-b3e9cb9d2928\" class=\"plotly-graph-div\" style=\"height:525px; width:100%;\"></div>\n",
       "            <script type=\"text/javascript\">\n",
       "                require([\"plotly\"], function(Plotly) {\n",
       "                    window.PLOTLYENV=window.PLOTLYENV || {};\n",
       "                    \n",
       "                if (document.getElementById(\"d500f00f-02a2-4e3c-80c4-b3e9cb9d2928\")) {\n",
       "                    Plotly.newPlot(\n",
       "                        'd500f00f-02a2-4e3c-80c4-b3e9cb9d2928',\n",
       "                        [{\"alignmentgroup\": \"True\", \"hovertemplate\": \"RR5=Bot<br>Patch=%{x}<br>value=%{y}<extra></extra>\", \"legendgroup\": \"Bot\", \"marker\": {\"color\": \"#636efa\"}, \"name\": \"Bot\", \"offsetgroup\": \"Bot\", \"orientation\": \"v\", \"showlegend\": true, \"textposition\": \"auto\", \"type\": \"bar\", \"x\": [10.1, 10.11, 10.12, 10.13, 10.14, 10.2, 10.3, 10.4, 10.5, 10.6, 10.7], \"xaxis\": \"x\", \"y\": [2.0, 2.0, null, null, null, 2.0, null, 3.0, 6.0, 3.0, null], \"yaxis\": \"y\"}, {\"alignmentgroup\": \"True\", \"hovertemplate\": \"RR5=Jungle<br>Patch=%{x}<br>value=%{y}<extra></extra>\", \"legendgroup\": \"Jungle\", \"marker\": {\"color\": \"#EF553B\"}, \"name\": \"Jungle\", \"offsetgroup\": \"Jungle\", \"orientation\": \"v\", \"showlegend\": true, \"textposition\": \"auto\", \"type\": \"bar\", \"x\": [10.1, 10.11, 10.12, 10.13, 10.14, 10.2, 10.3, 10.4, 10.5, 10.6, 10.7], \"xaxis\": \"x\", \"y\": [2.0, 4.0, 7.0, 6.0, 4.0, 1.0, 9.0, 10.0, 9.0, 17.0, null], \"yaxis\": \"y\"}, {\"alignmentgroup\": \"True\", \"hovertemplate\": \"RR5=Mid<br>Patch=%{x}<br>value=%{y}<extra></extra>\", \"legendgroup\": \"Mid\", \"marker\": {\"color\": \"#00cc96\"}, \"name\": \"Mid\", \"offsetgroup\": \"Mid\", \"orientation\": \"v\", \"showlegend\": true, \"textposition\": \"auto\", \"type\": \"bar\", \"x\": [10.1, 10.11, 10.12, 10.13, 10.14, 10.2, 10.3, 10.4, 10.5, 10.6, 10.7], \"xaxis\": \"x\", \"y\": [26.0, 42.0, 48.0, 33.0, 6.0, 43.0, 46.0, 56.0, 68.0, 104.0, 8.0], \"yaxis\": \"y\"}, {\"alignmentgroup\": \"True\", \"hovertemplate\": \"RR5=Support<br>Patch=%{x}<br>value=%{y}<extra></extra>\", \"legendgroup\": \"Support\", \"marker\": {\"color\": \"#ab63fa\"}, \"name\": \"Support\", \"offsetgroup\": \"Support\", \"orientation\": \"v\", \"showlegend\": true, \"textposition\": \"auto\", \"type\": \"bar\", \"x\": [10.1, 10.11, 10.12, 10.13, 10.14, 10.2, 10.3, 10.4, 10.5, 10.6, 10.7], \"xaxis\": \"x\", \"y\": [4.0, 17.0, 18.0, 29.0, 18.0, 19.0, 14.0, 22.0, 28.0, 38.0, 1.0], \"yaxis\": \"y\"}, {\"alignmentgroup\": \"True\", \"hovertemplate\": \"RR5=Top<br>Patch=%{x}<br>value=%{y}<extra></extra>\", \"legendgroup\": \"Top\", \"marker\": {\"color\": \"#FFA15A\"}, \"name\": \"Top\", \"offsetgroup\": \"Top\", \"orientation\": \"v\", \"showlegend\": true, \"textposition\": \"auto\", \"type\": \"bar\", \"x\": [10.1, 10.11, 10.12, 10.13, 10.14, 10.2, 10.3, 10.4, 10.5, 10.6, 10.7], \"xaxis\": \"x\", \"y\": [21.0, 47.0, 82.0, 82.0, 49.0, 26.0, 21.0, 28.0, 34.0, 58.0, 4.0], \"yaxis\": \"y\"}],\n",
       "                        {\"barmode\": \"group\", \"legend\": {\"title\": {\"text\": \"RR5\"}, \"tracegroupgap\": 0}, \"margin\": {\"t\": 60}, \"template\": {\"data\": {\"bar\": [{\"error_x\": {\"color\": \"#2a3f5f\"}, \"error_y\": {\"color\": \"#2a3f5f\"}, \"marker\": {\"line\": {\"color\": \"#E5ECF6\", \"width\": 0.5}}, \"type\": \"bar\"}], \"barpolar\": [{\"marker\": {\"line\": {\"color\": \"#E5ECF6\", \"width\": 0.5}}, \"type\": \"barpolar\"}], \"carpet\": [{\"aaxis\": {\"endlinecolor\": \"#2a3f5f\", \"gridcolor\": \"white\", \"linecolor\": \"white\", \"minorgridcolor\": \"white\", \"startlinecolor\": \"#2a3f5f\"}, \"baxis\": {\"endlinecolor\": \"#2a3f5f\", \"gridcolor\": \"white\", \"linecolor\": \"white\", \"minorgridcolor\": \"white\", \"startlinecolor\": \"#2a3f5f\"}, \"type\": \"carpet\"}], \"choropleth\": [{\"colorbar\": {\"outlinewidth\": 0, \"ticks\": \"\"}, \"type\": \"choropleth\"}], \"contour\": [{\"colorbar\": {\"outlinewidth\": 0, \"ticks\": \"\"}, \"colorscale\": [[0.0, \"#0d0887\"], [0.1111111111111111, \"#46039f\"], [0.2222222222222222, \"#7201a8\"], [0.3333333333333333, \"#9c179e\"], [0.4444444444444444, \"#bd3786\"], [0.5555555555555556, \"#d8576b\"], [0.6666666666666666, \"#ed7953\"], [0.7777777777777778, \"#fb9f3a\"], [0.8888888888888888, \"#fdca26\"], [1.0, \"#f0f921\"]], \"type\": \"contour\"}], \"contourcarpet\": [{\"colorbar\": {\"outlinewidth\": 0, \"ticks\": \"\"}, \"type\": \"contourcarpet\"}], \"heatmap\": [{\"colorbar\": {\"outlinewidth\": 0, \"ticks\": \"\"}, \"colorscale\": [[0.0, \"#0d0887\"], [0.1111111111111111, \"#46039f\"], [0.2222222222222222, \"#7201a8\"], [0.3333333333333333, \"#9c179e\"], [0.4444444444444444, \"#bd3786\"], [0.5555555555555556, \"#d8576b\"], [0.6666666666666666, \"#ed7953\"], [0.7777777777777778, \"#fb9f3a\"], [0.8888888888888888, \"#fdca26\"], [1.0, \"#f0f921\"]], \"type\": \"heatmap\"}], \"heatmapgl\": [{\"colorbar\": {\"outlinewidth\": 0, \"ticks\": \"\"}, \"colorscale\": [[0.0, \"#0d0887\"], [0.1111111111111111, \"#46039f\"], [0.2222222222222222, \"#7201a8\"], [0.3333333333333333, \"#9c179e\"], [0.4444444444444444, \"#bd3786\"], [0.5555555555555556, \"#d8576b\"], [0.6666666666666666, \"#ed7953\"], [0.7777777777777778, \"#fb9f3a\"], [0.8888888888888888, \"#fdca26\"], [1.0, \"#f0f921\"]], \"type\": \"heatmapgl\"}], \"histogram\": [{\"marker\": {\"colorbar\": {\"outlinewidth\": 0, \"ticks\": \"\"}}, \"type\": \"histogram\"}], \"histogram2d\": [{\"colorbar\": {\"outlinewidth\": 0, \"ticks\": \"\"}, \"colorscale\": [[0.0, \"#0d0887\"], [0.1111111111111111, \"#46039f\"], [0.2222222222222222, \"#7201a8\"], [0.3333333333333333, \"#9c179e\"], [0.4444444444444444, \"#bd3786\"], [0.5555555555555556, \"#d8576b\"], [0.6666666666666666, \"#ed7953\"], [0.7777777777777778, \"#fb9f3a\"], [0.8888888888888888, \"#fdca26\"], [1.0, \"#f0f921\"]], \"type\": \"histogram2d\"}], \"histogram2dcontour\": [{\"colorbar\": {\"outlinewidth\": 0, \"ticks\": \"\"}, \"colorscale\": [[0.0, \"#0d0887\"], [0.1111111111111111, \"#46039f\"], [0.2222222222222222, \"#7201a8\"], [0.3333333333333333, \"#9c179e\"], [0.4444444444444444, \"#bd3786\"], [0.5555555555555556, \"#d8576b\"], [0.6666666666666666, \"#ed7953\"], [0.7777777777777778, \"#fb9f3a\"], [0.8888888888888888, \"#fdca26\"], [1.0, \"#f0f921\"]], \"type\": \"histogram2dcontour\"}], \"mesh3d\": [{\"colorbar\": {\"outlinewidth\": 0, \"ticks\": \"\"}, \"type\": \"mesh3d\"}], \"parcoords\": [{\"line\": {\"colorbar\": {\"outlinewidth\": 0, \"ticks\": \"\"}}, \"type\": \"parcoords\"}], \"pie\": [{\"automargin\": true, \"type\": \"pie\"}], \"scatter\": [{\"marker\": {\"colorbar\": {\"outlinewidth\": 0, \"ticks\": \"\"}}, \"type\": \"scatter\"}], \"scatter3d\": [{\"line\": {\"colorbar\": {\"outlinewidth\": 0, \"ticks\": \"\"}}, \"marker\": {\"colorbar\": {\"outlinewidth\": 0, \"ticks\": \"\"}}, \"type\": \"scatter3d\"}], \"scattercarpet\": [{\"marker\": {\"colorbar\": {\"outlinewidth\": 0, \"ticks\": \"\"}}, \"type\": \"scattercarpet\"}], \"scattergeo\": [{\"marker\": {\"colorbar\": {\"outlinewidth\": 0, \"ticks\": \"\"}}, \"type\": \"scattergeo\"}], \"scattergl\": [{\"marker\": {\"colorbar\": {\"outlinewidth\": 0, \"ticks\": \"\"}}, \"type\": \"scattergl\"}], \"scattermapbox\": [{\"marker\": {\"colorbar\": {\"outlinewidth\": 0, \"ticks\": \"\"}}, \"type\": \"scattermapbox\"}], \"scatterpolar\": [{\"marker\": {\"colorbar\": {\"outlinewidth\": 0, \"ticks\": \"\"}}, \"type\": \"scatterpolar\"}], \"scatterpolargl\": [{\"marker\": {\"colorbar\": {\"outlinewidth\": 0, \"ticks\": \"\"}}, \"type\": \"scatterpolargl\"}], \"scatterternary\": [{\"marker\": {\"colorbar\": {\"outlinewidth\": 0, \"ticks\": \"\"}}, \"type\": \"scatterternary\"}], \"surface\": [{\"colorbar\": {\"outlinewidth\": 0, \"ticks\": \"\"}, \"colorscale\": [[0.0, \"#0d0887\"], [0.1111111111111111, \"#46039f\"], [0.2222222222222222, \"#7201a8\"], [0.3333333333333333, \"#9c179e\"], [0.4444444444444444, \"#bd3786\"], [0.5555555555555556, \"#d8576b\"], [0.6666666666666666, \"#ed7953\"], [0.7777777777777778, \"#fb9f3a\"], [0.8888888888888888, \"#fdca26\"], [1.0, \"#f0f921\"]], \"type\": \"surface\"}], \"table\": [{\"cells\": {\"fill\": {\"color\": \"#EBF0F8\"}, \"line\": {\"color\": \"white\"}}, \"header\": {\"fill\": {\"color\": \"#C8D4E3\"}, \"line\": {\"color\": \"white\"}}, \"type\": \"table\"}]}, \"layout\": {\"annotationdefaults\": {\"arrowcolor\": \"#2a3f5f\", \"arrowhead\": 0, \"arrowwidth\": 1}, \"coloraxis\": {\"colorbar\": {\"outlinewidth\": 0, \"ticks\": \"\"}}, \"colorscale\": {\"diverging\": [[0, \"#8e0152\"], [0.1, \"#c51b7d\"], [0.2, \"#de77ae\"], [0.3, \"#f1b6da\"], [0.4, \"#fde0ef\"], [0.5, \"#f7f7f7\"], [0.6, \"#e6f5d0\"], [0.7, \"#b8e186\"], [0.8, \"#7fbc41\"], [0.9, \"#4d9221\"], [1, \"#276419\"]], \"sequential\": [[0.0, \"#0d0887\"], [0.1111111111111111, \"#46039f\"], [0.2222222222222222, \"#7201a8\"], [0.3333333333333333, \"#9c179e\"], [0.4444444444444444, \"#bd3786\"], [0.5555555555555556, \"#d8576b\"], [0.6666666666666666, \"#ed7953\"], [0.7777777777777778, \"#fb9f3a\"], [0.8888888888888888, \"#fdca26\"], [1.0, \"#f0f921\"]], \"sequentialminus\": [[0.0, \"#0d0887\"], [0.1111111111111111, \"#46039f\"], [0.2222222222222222, \"#7201a8\"], [0.3333333333333333, \"#9c179e\"], [0.4444444444444444, \"#bd3786\"], [0.5555555555555556, \"#d8576b\"], [0.6666666666666666, \"#ed7953\"], [0.7777777777777778, \"#fb9f3a\"], [0.8888888888888888, \"#fdca26\"], [1.0, \"#f0f921\"]]}, \"colorway\": [\"#636efa\", \"#EF553B\", \"#00cc96\", \"#ab63fa\", \"#FFA15A\", \"#19d3f3\", \"#FF6692\", \"#B6E880\", \"#FF97FF\", \"#FECB52\"], \"font\": {\"color\": \"#2a3f5f\"}, \"geo\": {\"bgcolor\": \"white\", \"lakecolor\": \"white\", \"landcolor\": \"#E5ECF6\", \"showlakes\": true, \"showland\": true, \"subunitcolor\": \"white\"}, \"hoverlabel\": {\"align\": \"left\"}, \"hovermode\": \"closest\", \"mapbox\": {\"style\": \"light\"}, \"paper_bgcolor\": \"white\", \"plot_bgcolor\": \"#E5ECF6\", \"polar\": {\"angularaxis\": {\"gridcolor\": \"white\", \"linecolor\": \"white\", \"ticks\": \"\"}, \"bgcolor\": \"#E5ECF6\", \"radialaxis\": {\"gridcolor\": \"white\", \"linecolor\": \"white\", \"ticks\": \"\"}}, \"scene\": {\"xaxis\": {\"backgroundcolor\": \"#E5ECF6\", \"gridcolor\": \"white\", \"gridwidth\": 2, \"linecolor\": \"white\", \"showbackground\": true, \"ticks\": \"\", \"zerolinecolor\": \"white\"}, \"yaxis\": {\"backgroundcolor\": \"#E5ECF6\", \"gridcolor\": \"white\", \"gridwidth\": 2, \"linecolor\": \"white\", \"showbackground\": true, \"ticks\": \"\", \"zerolinecolor\": \"white\"}, \"zaxis\": {\"backgroundcolor\": \"#E5ECF6\", \"gridcolor\": \"white\", \"gridwidth\": 2, \"linecolor\": \"white\", \"showbackground\": true, \"ticks\": \"\", \"zerolinecolor\": \"white\"}}, \"shapedefaults\": {\"line\": {\"color\": \"#2a3f5f\"}}, \"ternary\": {\"aaxis\": {\"gridcolor\": \"white\", \"linecolor\": \"white\", \"ticks\": \"\"}, \"baxis\": {\"gridcolor\": \"white\", \"linecolor\": \"white\", \"ticks\": \"\"}, \"bgcolor\": \"#E5ECF6\", \"caxis\": {\"gridcolor\": \"white\", \"linecolor\": \"white\", \"ticks\": \"\"}}, \"title\": {\"x\": 0.05}, \"xaxis\": {\"automargin\": true, \"gridcolor\": \"white\", \"linecolor\": \"white\", \"ticks\": \"\", \"title\": {\"standoff\": 15}, \"zerolinecolor\": \"white\", \"zerolinewidth\": 2}, \"yaxis\": {\"automargin\": true, \"gridcolor\": \"white\", \"linecolor\": \"white\", \"ticks\": \"\", \"title\": {\"standoff\": 15}, \"zerolinecolor\": \"white\", \"zerolinewidth\": 2}}}, \"xaxis\": {\"anchor\": \"y\", \"domain\": [0.0, 1.0], \"title\": {\"text\": \"Patch\"}}, \"yaxis\": {\"anchor\": \"x\", \"domain\": [0.0, 1.0], \"title\": {\"text\": \"value\"}}},\n",
       "                        {\"responsive\": true}\n",
       "                    ).then(function(){\n",
       "                            \n",
       "var gd = document.getElementById('d500f00f-02a2-4e3c-80c4-b3e9cb9d2928');\n",
       "var x = new MutationObserver(function (mutations, observer) {{\n",
       "        var display = window.getComputedStyle(gd).display;\n",
       "        if (!display || display === 'none') {{\n",
       "            console.log([gd, 'removed!']);\n",
       "            Plotly.purge(gd);\n",
       "            observer.disconnect();\n",
       "        }}\n",
       "}});\n",
       "\n",
       "// Listen for the removal of the full notebook cells\n",
       "var notebookContainer = gd.closest('#notebook-container');\n",
       "if (notebookContainer) {{\n",
       "    x.observe(notebookContainer, {childList: true});\n",
       "}}\n",
       "\n",
       "// Listen for the clearing of the current output cell\n",
       "var outputEl = gd.closest('.output');\n",
       "if (outputEl) {{\n",
       "    x.observe(outputEl, {childList: true});\n",
       "}}\n",
       "\n",
       "                        })\n",
       "                };\n",
       "                });\n",
       "            </script>\n",
       "        </div>"
      ]
     },
     "metadata": {},
     "output_type": "display_data"
    }
   ],
   "source": [
    "t = pb.groupby([\"Patch\",\"RR5\"])['RR5'].count().unstack(level=1)\n",
    "px.bar(t,barmode='group')"
   ]
  },
  {
   "cell_type": "code",
   "execution_count": 86,
   "metadata": {},
   "outputs": [
    {
     "data": {
      "text/plain": [
       "0             Lucian\n",
       "1            Taliyah\n",
       "2             Lucian\n",
       "3              Akali\n",
       "4               Sett\n",
       "            ...     \n",
       "1222    Twisted Fate\n",
       "1223    Twisted Fate\n",
       "1224         Kalista\n",
       "1225         Kalista\n",
       "1226        Renekton\n",
       "Name: RB2, Length: 1227, dtype: object"
      ]
     },
     "execution_count": 86,
     "metadata": {},
     "output_type": "execute_result"
    }
   ],
   "source": [
    "pb.iloc[:,9]"
   ]
  },
  {
   "cell_type": "code",
   "execution_count": 97,
   "metadata": {},
   "outputs": [],
   "source": [
    "pb2 = pb"
   ]
  },
  {
   "cell_type": "code",
   "execution_count": 118,
   "metadata": {
    "collapsed": true,
    "jupyter": {
     "outputs_hidden": true
    }
   },
   "outputs": [
    {
     "ename": "TypeError",
     "evalue": "cannot do label indexing on <class 'pandas.core.indexes.base.Index'> with these indexers [15] of <class 'int'>",
     "output_type": "error",
     "traceback": [
      "\u001b[1;31m---------------------------------------------------------------------------\u001b[0m",
      "\u001b[1;31mTypeError\u001b[0m                                 Traceback (most recent call last)",
      "\u001b[1;32m<ipython-input-118-7861172c51fd>\u001b[0m in \u001b[0;36m<module>\u001b[1;34m\u001b[0m\n\u001b[1;32m----> 1\u001b[1;33m \u001b[0mpb2\u001b[0m\u001b[1;33m.\u001b[0m\u001b[0mloc\u001b[0m\u001b[1;33m[\u001b[0m\u001b[1;36m1\u001b[0m\u001b[1;33m,\u001b[0m\u001b[1;36m15\u001b[0m\u001b[1;33m]\u001b[0m\u001b[1;33m\u001b[0m\u001b[1;33m\u001b[0m\u001b[0m\n\u001b[0m",
      "\u001b[1;32m~\\AppData\\Roaming\\Python\\Python37\\site-packages\\pandas\\core\\indexing.py\u001b[0m in \u001b[0;36m__getitem__\u001b[1;34m(self, key)\u001b[0m\n\u001b[0;32m   1760\u001b[0m                 \u001b[1;32mexcept\u001b[0m \u001b[1;33m(\u001b[0m\u001b[0mKeyError\u001b[0m\u001b[1;33m,\u001b[0m \u001b[0mIndexError\u001b[0m\u001b[1;33m,\u001b[0m \u001b[0mAttributeError\u001b[0m\u001b[1;33m)\u001b[0m\u001b[1;33m:\u001b[0m\u001b[1;33m\u001b[0m\u001b[1;33m\u001b[0m\u001b[0m\n\u001b[0;32m   1761\u001b[0m                     \u001b[1;32mpass\u001b[0m\u001b[1;33m\u001b[0m\u001b[1;33m\u001b[0m\u001b[0m\n\u001b[1;32m-> 1762\u001b[1;33m             \u001b[1;32mreturn\u001b[0m \u001b[0mself\u001b[0m\u001b[1;33m.\u001b[0m\u001b[0m_getitem_tuple\u001b[0m\u001b[1;33m(\u001b[0m\u001b[0mkey\u001b[0m\u001b[1;33m)\u001b[0m\u001b[1;33m\u001b[0m\u001b[1;33m\u001b[0m\u001b[0m\n\u001b[0m\u001b[0;32m   1763\u001b[0m         \u001b[1;32melse\u001b[0m\u001b[1;33m:\u001b[0m\u001b[1;33m\u001b[0m\u001b[1;33m\u001b[0m\u001b[0m\n\u001b[0;32m   1764\u001b[0m             \u001b[1;31m# we by definition only have the 0th axis\u001b[0m\u001b[1;33m\u001b[0m\u001b[1;33m\u001b[0m\u001b[1;33m\u001b[0m\u001b[0m\n",
      "\u001b[1;32m~\\AppData\\Roaming\\Python\\Python37\\site-packages\\pandas\\core\\indexing.py\u001b[0m in \u001b[0;36m_getitem_tuple\u001b[1;34m(self, tup)\u001b[0m\n\u001b[0;32m   1270\u001b[0m     \u001b[1;32mdef\u001b[0m \u001b[0m_getitem_tuple\u001b[0m\u001b[1;33m(\u001b[0m\u001b[0mself\u001b[0m\u001b[1;33m,\u001b[0m \u001b[0mtup\u001b[0m\u001b[1;33m:\u001b[0m \u001b[0mTuple\u001b[0m\u001b[1;33m)\u001b[0m\u001b[1;33m:\u001b[0m\u001b[1;33m\u001b[0m\u001b[1;33m\u001b[0m\u001b[0m\n\u001b[0;32m   1271\u001b[0m         \u001b[1;32mtry\u001b[0m\u001b[1;33m:\u001b[0m\u001b[1;33m\u001b[0m\u001b[1;33m\u001b[0m\u001b[0m\n\u001b[1;32m-> 1272\u001b[1;33m             \u001b[1;32mreturn\u001b[0m \u001b[0mself\u001b[0m\u001b[1;33m.\u001b[0m\u001b[0m_getitem_lowerdim\u001b[0m\u001b[1;33m(\u001b[0m\u001b[0mtup\u001b[0m\u001b[1;33m)\u001b[0m\u001b[1;33m\u001b[0m\u001b[1;33m\u001b[0m\u001b[0m\n\u001b[0m\u001b[0;32m   1273\u001b[0m         \u001b[1;32mexcept\u001b[0m \u001b[0mIndexingError\u001b[0m\u001b[1;33m:\u001b[0m\u001b[1;33m\u001b[0m\u001b[1;33m\u001b[0m\u001b[0m\n\u001b[0;32m   1274\u001b[0m             \u001b[1;32mpass\u001b[0m\u001b[1;33m\u001b[0m\u001b[1;33m\u001b[0m\u001b[0m\n",
      "\u001b[1;32m~\\AppData\\Roaming\\Python\\Python37\\site-packages\\pandas\\core\\indexing.py\u001b[0m in \u001b[0;36m_getitem_lowerdim\u001b[1;34m(self, tup)\u001b[0m\n\u001b[0;32m   1419\u001b[0m                     \u001b[1;32mreturn\u001b[0m \u001b[0msection\u001b[0m\u001b[1;33m\u001b[0m\u001b[1;33m\u001b[0m\u001b[0m\n\u001b[0;32m   1420\u001b[0m                 \u001b[1;31m# This is an elided recursive call to iloc/loc/etc'\u001b[0m\u001b[1;33m\u001b[0m\u001b[1;33m\u001b[0m\u001b[1;33m\u001b[0m\u001b[0m\n\u001b[1;32m-> 1421\u001b[1;33m                 \u001b[1;32mreturn\u001b[0m \u001b[0mgetattr\u001b[0m\u001b[1;33m(\u001b[0m\u001b[0msection\u001b[0m\u001b[1;33m,\u001b[0m \u001b[0mself\u001b[0m\u001b[1;33m.\u001b[0m\u001b[0mname\u001b[0m\u001b[1;33m)\u001b[0m\u001b[1;33m[\u001b[0m\u001b[0mnew_key\u001b[0m\u001b[1;33m]\u001b[0m\u001b[1;33m\u001b[0m\u001b[1;33m\u001b[0m\u001b[0m\n\u001b[0m\u001b[0;32m   1422\u001b[0m \u001b[1;33m\u001b[0m\u001b[0m\n\u001b[0;32m   1423\u001b[0m         \u001b[1;32mraise\u001b[0m \u001b[0mIndexingError\u001b[0m\u001b[1;33m(\u001b[0m\u001b[1;34m\"not applicable\"\u001b[0m\u001b[1;33m)\u001b[0m\u001b[1;33m\u001b[0m\u001b[1;33m\u001b[0m\u001b[0m\n",
      "\u001b[1;32m~\\AppData\\Roaming\\Python\\Python37\\site-packages\\pandas\\core\\indexing.py\u001b[0m in \u001b[0;36m__getitem__\u001b[1;34m(self, key)\u001b[0m\n\u001b[0;32m   1766\u001b[0m \u001b[1;33m\u001b[0m\u001b[0m\n\u001b[0;32m   1767\u001b[0m             \u001b[0mmaybe_callable\u001b[0m \u001b[1;33m=\u001b[0m \u001b[0mcom\u001b[0m\u001b[1;33m.\u001b[0m\u001b[0mapply_if_callable\u001b[0m\u001b[1;33m(\u001b[0m\u001b[0mkey\u001b[0m\u001b[1;33m,\u001b[0m \u001b[0mself\u001b[0m\u001b[1;33m.\u001b[0m\u001b[0mobj\u001b[0m\u001b[1;33m)\u001b[0m\u001b[1;33m\u001b[0m\u001b[1;33m\u001b[0m\u001b[0m\n\u001b[1;32m-> 1768\u001b[1;33m             \u001b[1;32mreturn\u001b[0m \u001b[0mself\u001b[0m\u001b[1;33m.\u001b[0m\u001b[0m_getitem_axis\u001b[0m\u001b[1;33m(\u001b[0m\u001b[0mmaybe_callable\u001b[0m\u001b[1;33m,\u001b[0m \u001b[0maxis\u001b[0m\u001b[1;33m=\u001b[0m\u001b[0maxis\u001b[0m\u001b[1;33m)\u001b[0m\u001b[1;33m\u001b[0m\u001b[1;33m\u001b[0m\u001b[0m\n\u001b[0m\u001b[0;32m   1769\u001b[0m \u001b[1;33m\u001b[0m\u001b[0m\n\u001b[0;32m   1770\u001b[0m     \u001b[1;32mdef\u001b[0m \u001b[0m_is_scalar_access\u001b[0m\u001b[1;33m(\u001b[0m\u001b[0mself\u001b[0m\u001b[1;33m,\u001b[0m \u001b[0mkey\u001b[0m\u001b[1;33m:\u001b[0m \u001b[0mTuple\u001b[0m\u001b[1;33m)\u001b[0m\u001b[1;33m:\u001b[0m\u001b[1;33m\u001b[0m\u001b[1;33m\u001b[0m\u001b[0m\n",
      "\u001b[1;32m~\\AppData\\Roaming\\Python\\Python37\\site-packages\\pandas\\core\\indexing.py\u001b[0m in \u001b[0;36m_getitem_axis\u001b[1;34m(self, key, axis)\u001b[0m\n\u001b[0;32m   1962\u001b[0m \u001b[1;33m\u001b[0m\u001b[0m\n\u001b[0;32m   1963\u001b[0m         \u001b[1;31m# fall thru to straight lookup\u001b[0m\u001b[1;33m\u001b[0m\u001b[1;33m\u001b[0m\u001b[1;33m\u001b[0m\u001b[0m\n\u001b[1;32m-> 1964\u001b[1;33m         \u001b[0mself\u001b[0m\u001b[1;33m.\u001b[0m\u001b[0m_validate_key\u001b[0m\u001b[1;33m(\u001b[0m\u001b[0mkey\u001b[0m\u001b[1;33m,\u001b[0m \u001b[0maxis\u001b[0m\u001b[1;33m)\u001b[0m\u001b[1;33m\u001b[0m\u001b[1;33m\u001b[0m\u001b[0m\n\u001b[0m\u001b[0;32m   1965\u001b[0m         \u001b[1;32mreturn\u001b[0m \u001b[0mself\u001b[0m\u001b[1;33m.\u001b[0m\u001b[0m_get_label\u001b[0m\u001b[1;33m(\u001b[0m\u001b[0mkey\u001b[0m\u001b[1;33m,\u001b[0m \u001b[0maxis\u001b[0m\u001b[1;33m=\u001b[0m\u001b[0maxis\u001b[0m\u001b[1;33m)\u001b[0m\u001b[1;33m\u001b[0m\u001b[1;33m\u001b[0m\u001b[0m\n\u001b[0;32m   1966\u001b[0m \u001b[1;33m\u001b[0m\u001b[0m\n",
      "\u001b[1;32m~\\AppData\\Roaming\\Python\\Python37\\site-packages\\pandas\\core\\indexing.py\u001b[0m in \u001b[0;36m_validate_key\u001b[1;34m(self, key, axis)\u001b[0m\n\u001b[0;32m   1829\u001b[0m \u001b[1;33m\u001b[0m\u001b[0m\n\u001b[0;32m   1830\u001b[0m         \u001b[1;32mif\u001b[0m \u001b[1;32mnot\u001b[0m \u001b[0mis_list_like_indexer\u001b[0m\u001b[1;33m(\u001b[0m\u001b[0mkey\u001b[0m\u001b[1;33m)\u001b[0m\u001b[1;33m:\u001b[0m\u001b[1;33m\u001b[0m\u001b[1;33m\u001b[0m\u001b[0m\n\u001b[1;32m-> 1831\u001b[1;33m             \u001b[0mself\u001b[0m\u001b[1;33m.\u001b[0m\u001b[0m_convert_scalar_indexer\u001b[0m\u001b[1;33m(\u001b[0m\u001b[0mkey\u001b[0m\u001b[1;33m,\u001b[0m \u001b[0maxis\u001b[0m\u001b[1;33m)\u001b[0m\u001b[1;33m\u001b[0m\u001b[1;33m\u001b[0m\u001b[0m\n\u001b[0m\u001b[0;32m   1832\u001b[0m \u001b[1;33m\u001b[0m\u001b[0m\n\u001b[0;32m   1833\u001b[0m     \u001b[1;32mdef\u001b[0m \u001b[0m_is_scalar_access\u001b[0m\u001b[1;33m(\u001b[0m\u001b[0mself\u001b[0m\u001b[1;33m,\u001b[0m \u001b[0mkey\u001b[0m\u001b[1;33m:\u001b[0m \u001b[0mTuple\u001b[0m\u001b[1;33m)\u001b[0m \u001b[1;33m->\u001b[0m \u001b[0mbool\u001b[0m\u001b[1;33m:\u001b[0m\u001b[1;33m\u001b[0m\u001b[1;33m\u001b[0m\u001b[0m\n",
      "\u001b[1;32m~\\AppData\\Roaming\\Python\\Python37\\site-packages\\pandas\\core\\indexing.py\u001b[0m in \u001b[0;36m_convert_scalar_indexer\u001b[1;34m(self, key, axis)\u001b[0m\n\u001b[0;32m    739\u001b[0m         \u001b[0max\u001b[0m \u001b[1;33m=\u001b[0m \u001b[0mself\u001b[0m\u001b[1;33m.\u001b[0m\u001b[0mobj\u001b[0m\u001b[1;33m.\u001b[0m\u001b[0m_get_axis\u001b[0m\u001b[1;33m(\u001b[0m\u001b[0mmin\u001b[0m\u001b[1;33m(\u001b[0m\u001b[0maxis\u001b[0m\u001b[1;33m,\u001b[0m \u001b[0mself\u001b[0m\u001b[1;33m.\u001b[0m\u001b[0mndim\u001b[0m \u001b[1;33m-\u001b[0m \u001b[1;36m1\u001b[0m\u001b[1;33m)\u001b[0m\u001b[1;33m)\u001b[0m\u001b[1;33m\u001b[0m\u001b[1;33m\u001b[0m\u001b[0m\n\u001b[0;32m    740\u001b[0m         \u001b[1;31m# a scalar\u001b[0m\u001b[1;33m\u001b[0m\u001b[1;33m\u001b[0m\u001b[1;33m\u001b[0m\u001b[0m\n\u001b[1;32m--> 741\u001b[1;33m         \u001b[1;32mreturn\u001b[0m \u001b[0max\u001b[0m\u001b[1;33m.\u001b[0m\u001b[0m_convert_scalar_indexer\u001b[0m\u001b[1;33m(\u001b[0m\u001b[0mkey\u001b[0m\u001b[1;33m,\u001b[0m \u001b[0mkind\u001b[0m\u001b[1;33m=\u001b[0m\u001b[0mself\u001b[0m\u001b[1;33m.\u001b[0m\u001b[0mname\u001b[0m\u001b[1;33m)\u001b[0m\u001b[1;33m\u001b[0m\u001b[1;33m\u001b[0m\u001b[0m\n\u001b[0m\u001b[0;32m    742\u001b[0m \u001b[1;33m\u001b[0m\u001b[0m\n\u001b[0;32m    743\u001b[0m     \u001b[1;32mdef\u001b[0m \u001b[0m_convert_slice_indexer\u001b[0m\u001b[1;33m(\u001b[0m\u001b[0mself\u001b[0m\u001b[1;33m,\u001b[0m \u001b[0mkey\u001b[0m\u001b[1;33m:\u001b[0m \u001b[0mslice\u001b[0m\u001b[1;33m,\u001b[0m \u001b[0maxis\u001b[0m\u001b[1;33m:\u001b[0m \u001b[0mint\u001b[0m\u001b[1;33m)\u001b[0m\u001b[1;33m:\u001b[0m\u001b[1;33m\u001b[0m\u001b[1;33m\u001b[0m\u001b[0m\n",
      "\u001b[1;32m~\\AppData\\Roaming\\Python\\Python37\\site-packages\\pandas\\core\\indexes\\base.py\u001b[0m in \u001b[0;36m_convert_scalar_indexer\u001b[1;34m(self, key, kind)\u001b[0m\n\u001b[0;32m   2886\u001b[0m             \u001b[1;32melif\u001b[0m \u001b[0mkind\u001b[0m \u001b[1;32min\u001b[0m \u001b[1;33m[\u001b[0m\u001b[1;34m\"loc\"\u001b[0m\u001b[1;33m]\u001b[0m \u001b[1;32mand\u001b[0m \u001b[0mis_integer\u001b[0m\u001b[1;33m(\u001b[0m\u001b[0mkey\u001b[0m\u001b[1;33m)\u001b[0m\u001b[1;33m:\u001b[0m\u001b[1;33m\u001b[0m\u001b[1;33m\u001b[0m\u001b[0m\n\u001b[0;32m   2887\u001b[0m                 \u001b[1;32mif\u001b[0m \u001b[1;32mnot\u001b[0m \u001b[0mself\u001b[0m\u001b[1;33m.\u001b[0m\u001b[0mholds_integer\u001b[0m\u001b[1;33m(\u001b[0m\u001b[1;33m)\u001b[0m\u001b[1;33m:\u001b[0m\u001b[1;33m\u001b[0m\u001b[1;33m\u001b[0m\u001b[0m\n\u001b[1;32m-> 2888\u001b[1;33m                     \u001b[0mself\u001b[0m\u001b[1;33m.\u001b[0m\u001b[0m_invalid_indexer\u001b[0m\u001b[1;33m(\u001b[0m\u001b[1;34m\"label\"\u001b[0m\u001b[1;33m,\u001b[0m \u001b[0mkey\u001b[0m\u001b[1;33m)\u001b[0m\u001b[1;33m\u001b[0m\u001b[1;33m\u001b[0m\u001b[0m\n\u001b[0m\u001b[0;32m   2889\u001b[0m \u001b[1;33m\u001b[0m\u001b[0m\n\u001b[0;32m   2890\u001b[0m         \u001b[1;32mreturn\u001b[0m \u001b[0mkey\u001b[0m\u001b[1;33m\u001b[0m\u001b[1;33m\u001b[0m\u001b[0m\n",
      "\u001b[1;32m~\\AppData\\Roaming\\Python\\Python37\\site-packages\\pandas\\core\\indexes\\base.py\u001b[0m in \u001b[0;36m_invalid_indexer\u001b[1;34m(self, form, key)\u001b[0m\n\u001b[0;32m   3075\u001b[0m         \"\"\"\n\u001b[0;32m   3076\u001b[0m         raise TypeError(\n\u001b[1;32m-> 3077\u001b[1;33m             \u001b[1;34mf\"cannot do {form} indexing on {type(self)} with these \"\u001b[0m\u001b[1;33m\u001b[0m\u001b[1;33m\u001b[0m\u001b[0m\n\u001b[0m\u001b[0;32m   3078\u001b[0m             \u001b[1;34mf\"indexers [{key}] of {type(key)}\"\u001b[0m\u001b[1;33m\u001b[0m\u001b[1;33m\u001b[0m\u001b[0m\n\u001b[0;32m   3079\u001b[0m         )\n",
      "\u001b[1;31mTypeError\u001b[0m: cannot do label indexing on <class 'pandas.core.indexes.base.Index'> with these indexers [15] of <class 'int'>"
     ]
    }
   ],
   "source": [
    "pb2.loc[1,15]"
   ]
  },
  {
   "cell_type": "code",
   "execution_count": 176,
   "metadata": {},
   "outputs": [],
   "source": [
    "side = \"Blue\"\n",
    "role = \"Jungle\"\n",
    "#pb2[side+role] = np.nan\n",
    "for i in range(len(pb2)):\n",
    "    if pb2.iloc[i, 30] == role:\n",
    "        pb2.iloc[i,43] = pb2.iloc[i,24]\n",
    "    if pb2.iloc[i, 29] == role:\n",
    "        pb2.iloc[i,43] = pb2.iloc[i,23]\n",
    "    if pb2.iloc[i, 28] == role:\n",
    "        pb2.iloc[i,43] = pb2.iloc[i,16]\n",
    "    if pb2.iloc[i, 27] == role:\n",
    "        pb2.iloc[i,43] = pb2.iloc[i,15]\n",
    "    if pb2.iloc[i, 26] == role:\n",
    "        pb2.iloc[i,43] = pb2.iloc[i,12]\n",
    "        "
   ]
  },
  {
   "cell_type": "code",
   "execution_count": 149,
   "metadata": {},
   "outputs": [],
   "source": [
    "pb2 = pb2.rename(columns={'BlueSupport': 'BlueSup'})"
   ]
  },
  {
   "cell_type": "code",
   "execution_count": 177,
   "metadata": {},
   "outputs": [
    {
     "data": {
      "text/plain": [
       "0        Karthus\n",
       "1        Lee Sin\n",
       "2          Elise\n",
       "3           Olaf\n",
       "4        Lee Sin\n",
       "          ...   \n",
       "1222    Volibear\n",
       "1223    Volibear\n",
       "1224        Sett\n",
       "1225        Sett\n",
       "1226     Lee Sin\n",
       "Name: BlueJng, Length: 1227, dtype: object"
      ]
     },
     "execution_count": 177,
     "metadata": {},
     "output_type": "execute_result"
    }
   ],
   "source": [
    "pb2.iloc[:,43]"
   ]
  },
  {
   "cell_type": "code",
   "execution_count": 205,
   "metadata": {},
   "outputs": [
    {
     "data": {
      "text/html": [
       "<div>\n",
       "<style scoped>\n",
       "    .dataframe tbody tr th:only-of-type {\n",
       "        vertical-align: middle;\n",
       "    }\n",
       "\n",
       "    .dataframe tbody tr th {\n",
       "        vertical-align: top;\n",
       "    }\n",
       "\n",
       "    .dataframe thead th {\n",
       "        text-align: right;\n",
       "    }\n",
       "</style>\n",
       "<table border=\"1\" class=\"dataframe\">\n",
       "  <thead>\n",
       "    <tr style=\"text-align: right;\">\n",
       "      <th></th>\n",
       "      <th>Phase</th>\n",
       "      <th>Blue</th>\n",
       "      <th>Red</th>\n",
       "      <th>Score</th>\n",
       "      <th>Result</th>\n",
       "      <th>Patch</th>\n",
       "      <th>BB1</th>\n",
       "      <th>RB1</th>\n",
       "      <th>BB2</th>\n",
       "      <th>RB2</th>\n",
       "      <th>...</th>\n",
       "      <th>RedTop</th>\n",
       "      <th>RedJng</th>\n",
       "      <th>RedMid</th>\n",
       "      <th>RedBot</th>\n",
       "      <th>RedSup</th>\n",
       "      <th>BlueTop</th>\n",
       "      <th>BlueJng</th>\n",
       "      <th>BlueMid</th>\n",
       "      <th>BlueBot</th>\n",
       "      <th>BlueSup</th>\n",
       "    </tr>\n",
       "  </thead>\n",
       "  <tbody>\n",
       "    <tr>\n",
       "      <th>0</th>\n",
       "      <td>Week 1</td>\n",
       "      <td>Afreeca Freecs</td>\n",
       "      <td>Hanwha Life Esports</td>\n",
       "      <td>2 - 1</td>\n",
       "      <td>Blue</td>\n",
       "      <td>10.2</td>\n",
       "      <td>Yuumi</td>\n",
       "      <td>Akali</td>\n",
       "      <td>Jarvan IV</td>\n",
       "      <td>Lucian</td>\n",
       "      <td>...</td>\n",
       "      <td>Quinn</td>\n",
       "      <td>Elise</td>\n",
       "      <td>Zoe</td>\n",
       "      <td>Xayah</td>\n",
       "      <td>Rakan</td>\n",
       "      <td>Kennen</td>\n",
       "      <td>Karthus</td>\n",
       "      <td>Pantheon</td>\n",
       "      <td>Aphelios</td>\n",
       "      <td>Nautilus</td>\n",
       "    </tr>\n",
       "    <tr>\n",
       "      <th>1</th>\n",
       "      <td>Week 1</td>\n",
       "      <td>Hanwha Life Esports</td>\n",
       "      <td>Afreeca Freecs</td>\n",
       "      <td>1 - 1</td>\n",
       "      <td>Red</td>\n",
       "      <td>10.2</td>\n",
       "      <td>Lucian</td>\n",
       "      <td>Yuumi</td>\n",
       "      <td>Jarvan IV</td>\n",
       "      <td>Taliyah</td>\n",
       "      <td>...</td>\n",
       "      <td>Aatrox</td>\n",
       "      <td>Elise</td>\n",
       "      <td>Pantheon</td>\n",
       "      <td>Aphelios</td>\n",
       "      <td>Nautilus</td>\n",
       "      <td>Mordekaiser</td>\n",
       "      <td>Lee Sin</td>\n",
       "      <td>Rumble</td>\n",
       "      <td>Miss Fortune</td>\n",
       "      <td>Thresh</td>\n",
       "    </tr>\n",
       "    <tr>\n",
       "      <th>2</th>\n",
       "      <td>Week 1</td>\n",
       "      <td>Afreeca Freecs</td>\n",
       "      <td>Hanwha Life Esports</td>\n",
       "      <td>0 - 1</td>\n",
       "      <td>Red</td>\n",
       "      <td>10.2</td>\n",
       "      <td>Diana</td>\n",
       "      <td>Akali</td>\n",
       "      <td>Yuumi</td>\n",
       "      <td>Lucian</td>\n",
       "      <td>...</td>\n",
       "      <td>Ornn</td>\n",
       "      <td>Jarvan IV</td>\n",
       "      <td>Rumble</td>\n",
       "      <td>Aphelios</td>\n",
       "      <td>Thresh</td>\n",
       "      <td>Kennen</td>\n",
       "      <td>Elise</td>\n",
       "      <td>Pantheon</td>\n",
       "      <td>Miss Fortune</td>\n",
       "      <td>Nautilus</td>\n",
       "    </tr>\n",
       "    <tr>\n",
       "      <th>3</th>\n",
       "      <td>Week 1</td>\n",
       "      <td>SANDBOX Gaming</td>\n",
       "      <td>DragonX</td>\n",
       "      <td>1 - 2</td>\n",
       "      <td>Red</td>\n",
       "      <td>10.2</td>\n",
       "      <td>Irelia</td>\n",
       "      <td>Lucian</td>\n",
       "      <td>Ornn</td>\n",
       "      <td>Akali</td>\n",
       "      <td>...</td>\n",
       "      <td>Renekton</td>\n",
       "      <td>Elise</td>\n",
       "      <td>Qiyana</td>\n",
       "      <td>Aphelios</td>\n",
       "      <td>Thresh</td>\n",
       "      <td>Aatrox</td>\n",
       "      <td>Olaf</td>\n",
       "      <td>Zoe</td>\n",
       "      <td>Miss Fortune</td>\n",
       "      <td>Nautilus</td>\n",
       "    </tr>\n",
       "    <tr>\n",
       "      <th>4</th>\n",
       "      <td>Week 1</td>\n",
       "      <td>DragonX</td>\n",
       "      <td>SANDBOX Gaming</td>\n",
       "      <td>1 - 1</td>\n",
       "      <td>Blue</td>\n",
       "      <td>10.2</td>\n",
       "      <td>Elise</td>\n",
       "      <td>Akali</td>\n",
       "      <td>Olaf</td>\n",
       "      <td>Sett</td>\n",
       "      <td>...</td>\n",
       "      <td>Aatrox</td>\n",
       "      <td>Rek'Sai</td>\n",
       "      <td>Zoe</td>\n",
       "      <td>Aphelios</td>\n",
       "      <td>Blitzcrank</td>\n",
       "      <td>Kennen</td>\n",
       "      <td>Lee Sin</td>\n",
       "      <td>Nautilus</td>\n",
       "      <td>Miss Fortune</td>\n",
       "      <td>Thresh</td>\n",
       "    </tr>\n",
       "  </tbody>\n",
       "</table>\n",
       "<p>5 rows × 47 columns</p>\n",
       "</div>"
      ],
      "text/plain": [
       "    Phase                 Blue                  Red  Score Result  Patch  \\\n",
       "0  Week 1       Afreeca Freecs  Hanwha Life Esports  2 - 1   Blue   10.2   \n",
       "1  Week 1  Hanwha Life Esports       Afreeca Freecs  1 - 1    Red   10.2   \n",
       "2  Week 1       Afreeca Freecs  Hanwha Life Esports  0 - 1    Red   10.2   \n",
       "3  Week 1       SANDBOX Gaming              DragonX  1 - 2    Red   10.2   \n",
       "4  Week 1              DragonX       SANDBOX Gaming  1 - 1   Blue   10.2   \n",
       "\n",
       "      BB1     RB1        BB2      RB2  ...    RedTop     RedJng    RedMid  \\\n",
       "0   Yuumi   Akali  Jarvan IV   Lucian  ...     Quinn      Elise       Zoe   \n",
       "1  Lucian   Yuumi  Jarvan IV  Taliyah  ...    Aatrox      Elise  Pantheon   \n",
       "2   Diana   Akali      Yuumi   Lucian  ...      Ornn  Jarvan IV    Rumble   \n",
       "3  Irelia  Lucian       Ornn    Akali  ...  Renekton      Elise    Qiyana   \n",
       "4   Elise   Akali       Olaf     Sett  ...    Aatrox    Rek'Sai       Zoe   \n",
       "\n",
       "     RedBot      RedSup      BlueTop  BlueJng   BlueMid       BlueBot  \\\n",
       "0     Xayah       Rakan       Kennen  Karthus  Pantheon      Aphelios   \n",
       "1  Aphelios    Nautilus  Mordekaiser  Lee Sin    Rumble  Miss Fortune   \n",
       "2  Aphelios      Thresh       Kennen    Elise  Pantheon  Miss Fortune   \n",
       "3  Aphelios      Thresh       Aatrox     Olaf       Zoe  Miss Fortune   \n",
       "4  Aphelios  Blitzcrank       Kennen  Lee Sin  Nautilus  Miss Fortune   \n",
       "\n",
       "    BlueSup  \n",
       "0  Nautilus  \n",
       "1    Thresh  \n",
       "2  Nautilus  \n",
       "3  Nautilus  \n",
       "4    Thresh  \n",
       "\n",
       "[5 rows x 47 columns]"
      ]
     },
     "execution_count": 205,
     "metadata": {},
     "output_type": "execute_result"
    }
   ],
   "source": [
    "pb2.head()\n",
    "#pb2[(pb2[\"BlueBot\"] == \"Senna\")].groupby(['RedBot','Result']).size() #/ pb2[pb2[\"BlueBot\"] == \"Ashe\"].groupby(['RedBot']).size()"
   ]
  }
 ],
 "metadata": {
  "kernelspec": {
   "display_name": "Python 3",
   "language": "python",
   "name": "python3"
  },
  "language_info": {
   "codemirror_mode": {
    "name": "ipython",
    "version": 3
   },
   "file_extension": ".py",
   "mimetype": "text/x-python",
   "name": "python",
   "nbconvert_exporter": "python",
   "pygments_lexer": "ipython3",
   "version": "3.9.3"
  }
 },
 "nbformat": 4,
 "nbformat_minor": 4
}
